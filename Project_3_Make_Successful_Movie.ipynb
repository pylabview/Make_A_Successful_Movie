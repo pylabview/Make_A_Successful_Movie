{
 "cells": [
  {
   "cell_type": "markdown",
   "id": "4718520c-b8f7-4ad7-8af8-d0fa290f6dfa",
   "metadata": {},
   "source": [
    "# IMDb Dataset Details"
   ]
  },
  {
   "cell_type": "markdown",
   "id": "03f65297-0088-4907-9a88-70b2c0bddd25",
   "metadata": {},
   "source": [
    "Each dataset is contained in a gzipped, tab-separated-values (TSV) formatted file in the UTF-8 character set. <br>\n",
    "The first line in each file contains headers that describe what is in each column. <br>\n",
    "A ‘\\N’ is used to denote that a particular field is missing or null for that title/name. The available datasets are as follows:<br>\n",
    "\n",
    "**title.akas.tsv.gz** - Contains the following information for titles:\n",
    "titleId (string) - a tconst, an alphanumeric unique identifier of the title<br>\n",
    "ordering (integer) – a number to uniquely identify rows for a given titleId<br>\n",
    "title (string) – the localized title<br>\n",
    "region (string) - the region for this version of the title<br>\n",
    "language (string) - the language of the title<br>\n",
    "types (array) - Enumerated set of attributes for this alternative title. One or more of the following: \"alternative\", \"dvd\", \"festival\", \"tv\", \"video\", \"working\", \"original\", \"imdbDisplay\".<br>\n",
    "attributes (array) - Additional terms to describe this alternative title, not enumerated<br>\n",
    "isOriginalTitle (boolean) – 0: not original title; 1: original title\n",
    "<br>\n",
    "<br>\n",
    "**title.basics.tsv.gz** - Contains the following information for titles:<br>\n",
    "tconst (string) - alphanumeric unique identifier of the title<br>\n",
    "titleType (string) – the type/format of the title (e.g. movie, short, tvseries, tvepisode, video, etc)<br>\n",
    "primaryTitle (string) – the more popular title / the title used by the filmmakers on promotional materials at the point of release<br>\n",
    "originalTitle (string) - original title, in the original language<br>\n",
    "isAdult (boolean) - 0: non-adult title; 1: adult title<br>\n",
    "startYear (YYYY) – represents the release year of a title. In the case of TV Series, it is the series start year<br>\n",
    "endYear (YYYY) – TV Series end year. ‘\\N’ for all other title types<br>\n",
    "runtimeMinutes – primary runtime of the title, in minutes<br>\n",
    "genres (string array) – includes up to three genres associated with the title\n",
    "<br><br>\n",
    "**title.ratings.tsv.gz** – Contains the IMDb rating and votes information for titles<br>\n",
    "tconst (string) - alphanumeric unique identifier of the title<br>\n",
    "averageRating – weighted average of all the individual user ratings<br>\n",
    "numVotes - number of votes the title has received<br>"
   ]
  },
  {
   "cell_type": "code",
   "execution_count": 11,
   "id": "1eddd965-3f40-44bb-b1d9-a0d5c1da187c",
   "metadata": {},
   "outputs": [],
   "source": [
    "import pandas as pd\n",
    "import numpy as np"
   ]
  },
  {
   "cell_type": "code",
   "execution_count": 2,
   "id": "bb26ec30-a57e-46de-aece-880e488e5ec1",
   "metadata": {},
   "outputs": [],
   "source": [
    "basics_url=\"https://datasets.imdbws.com/title.basics.tsv.gz\"\n",
    "akas_url=\"https://datasets.imdbws.com/title.akas.tsv.gz\"\n",
    "ratings_url=\"https://datasets.imdbws.com/title.ratings.tsv.gz\""
   ]
  },
  {
   "cell_type": "code",
   "execution_count": 17,
   "id": "68736654-d0b2-46cc-9709-9faced4ee6b3",
   "metadata": {},
   "outputs": [],
   "source": [
    "basics = pd.read_csv(basics_url, sep='\\t', low_memory=False)\n",
    "basics.replace({'\\\\N':np.nan},inplace=True)"
   ]
  },
  {
   "cell_type": "code",
   "execution_count": null,
   "id": "a5da7cd1-e129-402c-ac11-c8cc987d67f6",
   "metadata": {},
   "outputs": [],
   "source": [
    "akas = pd.read_csv(akas_url, sep='\\t', low_memory=False)\n",
    "akas.replace({'\\\\N':np.nan},inplace=True)"
   ]
  },
  {
   "cell_type": "code",
   "execution_count": null,
   "id": "4755b2da-80f4-4bd6-81ef-a4ef7b856985",
   "metadata": {},
   "outputs": [],
   "source": [
    "ratings = pd.read_csv(ratings_url, sep='\\t', low_memory=False)\n",
    "ratings.replace({'\\\\N':np.nan}inplace=True)"
   ]
  },
  {
   "cell_type": "code",
   "execution_count": null,
   "id": "0d5bf5f0-7c3c-481f-aeea-b568e5d6990b",
   "metadata": {},
   "outputs": [],
   "source": []
  }
 ],
 "metadata": {
  "kernelspec": {
   "display_name": "Python 3 (ipykernel)",
   "language": "python",
   "name": "python3"
  },
  "language_info": {
   "codemirror_mode": {
    "name": "ipython",
    "version": 3
   },
   "file_extension": ".py",
   "mimetype": "text/x-python",
   "name": "python",
   "nbconvert_exporter": "python",
   "pygments_lexer": "ipython3",
   "version": "3.9.15"
  }
 },
 "nbformat": 4,
 "nbformat_minor": 5
}
