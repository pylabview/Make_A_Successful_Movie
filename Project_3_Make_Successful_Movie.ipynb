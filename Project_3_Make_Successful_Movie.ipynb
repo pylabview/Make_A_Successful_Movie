{
 "cells": [
  {
   "cell_type": "markdown",
   "id": "a3ad6ef3-1f45-4f56-899f-d43caa409966",
   "metadata": {},
   "source": [
    "# Project 3 Part 1 (Core)\n",
    "\n",
    "Rodrigo Arguello-Serrano"
   ]
  },
  {
   "cell_type": "markdown",
   "id": "1b2635ac-c350-4273-b922-85b8a46361ec",
   "metadata": {},
   "source": [
    "# Business Problem"
   ]
  },
  {
   "cell_type": "markdown",
   "id": "99509f4a-200b-478b-846c-2e789b4a52ca",
   "metadata": {},
   "source": [
    ">For this project, I produce a MySQL database on Movies from a subset of IMDB's publicly available dataset. I will use this database to analyze what makes a movie successful and provide recommendations to the stakeholder on how to make a successful movie."
   ]
  },
  {
   "cell_type": "markdown",
   "id": "f4dcbfe8-440c-4214-bb03-364a00fd3e50",
   "metadata": {},
   "source": [
    "# Specifications\n",
    "\n",
    "\n",
    "> - Exclude any movie with missing values for genre or runtime\n",
    "> - Include only full-length movies (titleType = \"movie\").\n",
    "> - Include only fictional movies (not from documentary genre)\n",
    "> - Include only movies that were released 2000 - 2021 (include 2000 and 2021)\n",
    "> - Include only movies that were released in the United States"
   ]
  },
  {
   "cell_type": "markdown",
   "id": "e32fa929-26ec-4810-a0fe-8f1555810159",
   "metadata": {
    "tags": []
   },
   "source": [
    "<a name=\"1.1\"></a>\n",
    "<h2> 1. 📒Data Dictionary: IMDb Dataset Details </h2>"
   ]
  },
  {
   "cell_type": "markdown",
   "id": "03f65297-0088-4907-9a88-70b2c0bddd25",
   "metadata": {},
   "source": [
    "\n",
    "\n",
    "**title.akas.tsv.gz** - Contains the following information for titles:\n",
    "titleId (string) - a tconst, an alphanumeric unique identifier of the title<br>\n",
    "ordering (integer) – a number to uniquely identify rows for a given titleId<br>\n",
    "title (string) – the localized title<br>\n",
    "region (string) - the region for this version of the title<br>\n",
    "language (string) - the language of the title<br>\n",
    "types (array) - Enumerated set of attributes for this alternative title. One or more of the following: \"alternative\", \"dvd\", \"festival\", \"tv\", \"video\", \"working\", \"original\", \"imdbDisplay\".<br>\n",
    "attributes (array) - Additional terms to describe this alternative title, not enumerated<br>\n",
    "isOriginalTitle (boolean) – 0: not original title; 1: original title\n",
    "<br>\n",
    "<br>\n",
    "**title.basics.tsv.gz** - Contains the following information for titles:<br>\n",
    "tconst (string) - alphanumeric unique identifier of the title<br>\n",
    "titleType (string) – the type/format of the title (e.g. movie, short, tvseries, tvepisode, video, etc)<br>\n",
    "primaryTitle (string) – the more popular title / the title used by the filmmakers on promotional materials at the point of release<br>\n",
    "originalTitle (string) - original title, in the original language<br>\n",
    "isAdult (boolean) - 0: non-adult title; 1: adult title<br>\n",
    "startYear (YYYY) – represents the release year of a title. In the case of TV Series, it is the series start year<br>\n",
    "endYear (YYYY) – TV Series end year. ‘\\N’ for all other title types<br>\n",
    "runtimeMinutes – primary runtime of the title, in minutes<br>\n",
    "genres (string array) – includes up to three genres associated with the title\n",
    "<br><br>\n",
    "**title.ratings.tsv.gz** – Contains the IMDb rating and votes information for titles<br>\n",
    "tconst (string) - alphanumeric unique identifier of the title<br>\n",
    "averageRating – weighted average of all the individual user ratings<br>\n",
    "numVotes - number of votes the title has received<br>\n",
    "[link text](http://url)\n",
    "This is [My Kaggle Account](https://www.kaggle.com/ahmetekiz)"
   ]
  },
  {
   "cell_type": "markdown",
   "id": "8e112d1c-d9cf-48c5-bb2f-27e1aa0b5380",
   "metadata": {},
   "source": [
    "## 2. Import Modules"
   ]
  },
  {
   "cell_type": "code",
   "execution_count": 46,
   "id": "1eddd965-3f40-44bb-b1d9-a0d5c1da187c",
   "metadata": {},
   "outputs": [],
   "source": [
    "#Import Modules\n",
    "import pandas as pd\n",
    "import numpy as np"
   ]
  },
  {
   "cell_type": "markdown",
   "id": "50a45c71-0a80-4aed-8b64-77227db88c37",
   "metadata": {},
   "source": [
    "## 3. Upload datasets"
   ]
  },
  {
   "cell_type": "code",
   "execution_count": 59,
   "id": "bb26ec30-a57e-46de-aece-880e488e5ec1",
   "metadata": {},
   "outputs": [],
   "source": [
    "# Assigning dataset urls\n",
    "basics_url=\"https://datasets.imdbws.com/title.basics.tsv.gz\"\n",
    "akas_url=\"https://datasets.imdbws.com/title.akas.tsv.gz\"\n",
    "ratings_url=\"https://datasets.imdbws.com/title.ratings.tsv.gz\""
   ]
  },
  {
   "cell_type": "code",
   "execution_count": 60,
   "id": "68736654-d0b2-46cc-9709-9faced4ee6b3",
   "metadata": {},
   "outputs": [],
   "source": [
    "# Reading data and assigning to dataframe: basics\n",
    "basics = pd.read_csv(basics_url, sep='\\t', low_memory=False)\n",
    "# Repalcing missing values key \\N with numpy nan objects\n",
    "basics.replace({'\\\\N':np.nan},inplace=True)"
   ]
  },
  {
   "cell_type": "code",
   "execution_count": 61,
   "id": "a5da7cd1-e129-402c-ac11-c8cc987d67f6",
   "metadata": {},
   "outputs": [],
   "source": [
    "# Reading data and assigning to dataframe: akas\n",
    "akas = pd.read_csv(akas_url, sep='\\t', low_memory=False)\n",
    "# Repalcing missing values key \\N with numpy nan objects\n",
    "akas.replace({'\\\\N':np.nan},inplace=True)"
   ]
  },
  {
   "cell_type": "code",
   "execution_count": 62,
   "id": "4755b2da-80f4-4bd6-81ef-a4ef7b856985",
   "metadata": {},
   "outputs": [],
   "source": [
    "# Reading data and assigning to dataframe: \n",
    "ratings = pd.read_csv(ratings_url, sep='\\t', low_memory=False)\n",
    "# Repalcing missing values key \\N with numpy nan objects\n",
    "ratings.replace({'\\\\N':np.nan},inplace=True)"
   ]
  },
  {
   "cell_type": "markdown",
   "id": "9d8b0f81-96e9-4bcf-a5b4-205bcdd801ba",
   "metadata": {},
   "source": [
    "## 4. Akas data clean up"
   ]
  },
  {
   "cell_type": "code",
   "execution_count": 51,
   "id": "67e4a244-6c06-4d49-a497-8aa49e4bc20c",
   "metadata": {},
   "outputs": [],
   "source": [
    "# keep only US movies.\n",
    "akas = akas[akas['region']=='US']"
   ]
  },
  {
   "cell_type": "code",
   "execution_count": 38,
   "id": "b67417e9-ce7f-49b8-b34c-bc9921456de7",
   "metadata": {},
   "outputs": [],
   "source": [
    "# Dropping all rows with nan values from akka\n",
    "akas = akas.dropna(axis=0)"
   ]
  },
  {
   "cell_type": "markdown",
   "id": "8b8389ef-dc79-4ee7-8de3-af80c696a903",
   "metadata": {},
   "source": [
    "## 5. Basics data clean up"
   ]
  },
  {
   "cell_type": "code",
   "execution_count": 52,
   "id": "7a850084-6daf-4605-b746-233ff9bed76e",
   "metadata": {},
   "outputs": [],
   "source": [
    "#Eliminate movies that are null for runtimeMinutes and generes\n",
    "basics=basics.dropna(subset=['runtimeMinutes','genres'])"
   ]
  },
  {
   "cell_type": "code",
   "execution_count": 53,
   "id": "24bb3b37-a77a-4354-bcce-f5b642802c17",
   "metadata": {},
   "outputs": [],
   "source": [
    "#keep only titleType==Movie\n",
    "basics=basics[basics['titleType']=='movie']"
   ]
  },
  {
   "cell_type": "code",
   "execution_count": 54,
   "id": "6585ef86-98e5-4275-ab3d-4a70bc7c0d1f",
   "metadata": {},
   "outputs": [],
   "source": [
    "basics['startYear'] = basics['startYear'].astype(float)"
   ]
  },
  {
   "cell_type": "code",
   "execution_count": 55,
   "id": "000f9b89-c5e1-4722-b770-ee9768ad53b2",
   "metadata": {},
   "outputs": [],
   "source": [
    "#keep startYear 2000-2022\n",
    "basics = basics[(basics['startYear']=='2022')|(basics['startYear']=='2000')]"
   ]
  },
  {
   "cell_type": "code",
   "execution_count": 56,
   "id": "8146d5b7-933d-4d0b-b623-2eeb1a0253c6",
   "metadata": {},
   "outputs": [],
   "source": [
    "# Eliminate movies that include \"Documentary\" in genre (see tip below)\n",
    "is_documentary = basics['genres'].str.contains('documentary',case=False)\n",
    "basics= basics[~is_documentary]"
   ]
  },
  {
   "cell_type": "code",
   "execution_count": 57,
   "id": "ff69c4e0-e735-4583-9d47-d25f7aef7f05",
   "metadata": {},
   "outputs": [],
   "source": [
    "#Keep only US movies\n",
    "keepers =basics['tconst'].isin(akas['titleId'])\n",
    "basics = basics[keepers]"
   ]
  },
  {
   "cell_type": "code",
   "execution_count": 58,
   "id": "0d5bf5f0-7c3c-481f-aeea-b568e5d6990b",
   "metadata": {
    "tags": []
   },
   "outputs": [
    {
     "name": "stdout",
     "output_type": "stream",
     "text": [
      "<class 'pandas.core.frame.DataFrame'>\n",
      "Int64Index: 0 entries\n",
      "Data columns (total 9 columns):\n",
      " #   Column          Non-Null Count  Dtype  \n",
      "---  ------          --------------  -----  \n",
      " 0   tconst          0 non-null      object \n",
      " 1   titleType       0 non-null      object \n",
      " 2   primaryTitle    0 non-null      object \n",
      " 3   originalTitle   0 non-null      object \n",
      " 4   isAdult         0 non-null      object \n",
      " 5   startYear       0 non-null      float64\n",
      " 6   endYear         0 non-null      object \n",
      " 7   runtimeMinutes  0 non-null      object \n",
      " 8   genres          0 non-null      object \n",
      "dtypes: float64(1), object(8)\n",
      "memory usage: 0.0+ bytes\n"
     ]
    }
   ],
   "source": [
    "basics.info()"
   ]
  },
  {
   "cell_type": "markdown",
   "id": "54a1cacd-6a96-45b9-b666-29a11e7477f7",
   "metadata": {},
   "source": [
    "## 5. Ratings data clean up"
   ]
  },
  {
   "cell_type": "code",
   "execution_count": 14,
   "id": "be7043d8-6c67-489f-8e2c-1fc9c3ae08bf",
   "metadata": {
    "tags": []
   },
   "outputs": [],
   "source": [
    "#Keep only US movies\n",
    "keepers_r =ratings['tconst'].isin(akas['titleId'])\n",
    "ratings = ratings[keepers_r]"
   ]
  },
  {
   "cell_type": "markdown",
   "id": "d82582c8-41c6-449f-8a13-d5c1dba8db74",
   "metadata": {},
   "source": [
    "## 7. Checking Dataframe Info"
   ]
  },
  {
   "cell_type": "code",
   "execution_count": 15,
   "id": "d0f851cb-cb71-411b-a68c-cf6e0d753dde",
   "metadata": {},
   "outputs": [
    {
     "name": "stdout",
     "output_type": "stream",
     "text": [
      "<class 'pandas.core.frame.DataFrame'>\n",
      "Int64Index: 0 entries\n",
      "Data columns (total 9 columns):\n",
      " #   Column          Non-Null Count  Dtype  \n",
      "---  ------          --------------  -----  \n",
      " 0   tconst          0 non-null      object \n",
      " 1   titleType       0 non-null      object \n",
      " 2   primaryTitle    0 non-null      object \n",
      " 3   originalTitle   0 non-null      object \n",
      " 4   isAdult         0 non-null      object \n",
      " 5   startYear       0 non-null      float64\n",
      " 6   endYear         0 non-null      object \n",
      " 7   runtimeMinutes  0 non-null      object \n",
      " 8   genres          0 non-null      object \n",
      "dtypes: float64(1), object(8)\n",
      "memory usage: 0.0+ bytes\n"
     ]
    }
   ],
   "source": [
    "basics.info()"
   ]
  },
  {
   "cell_type": "code",
   "execution_count": 16,
   "id": "a36cee34-1dab-47f3-9c32-7819b37fca9b",
   "metadata": {},
   "outputs": [
    {
     "name": "stdout",
     "output_type": "stream",
     "text": [
      "<class 'pandas.core.frame.DataFrame'>\n",
      "Int64Index: 22 entries, 102316 to 1050893\n",
      "Data columns (total 8 columns):\n",
      " #   Column           Non-Null Count  Dtype \n",
      "---  ------           --------------  ----- \n",
      " 0   titleId          22 non-null     object\n",
      " 1   ordering         22 non-null     int64 \n",
      " 2   title            22 non-null     object\n",
      " 3   region           22 non-null     object\n",
      " 4   language         22 non-null     object\n",
      " 5   types            22 non-null     object\n",
      " 6   attributes       22 non-null     object\n",
      " 7   isOriginalTitle  22 non-null     object\n",
      "dtypes: int64(1), object(7)\n",
      "memory usage: 1.5+ KB\n"
     ]
    }
   ],
   "source": [
    "akas.info()"
   ]
  },
  {
   "cell_type": "code",
   "execution_count": 17,
   "id": "d24fb34e-169e-4ddf-85c0-6c49b0287497",
   "metadata": {},
   "outputs": [
    {
     "name": "stdout",
     "output_type": "stream",
     "text": [
      "<class 'pandas.core.frame.DataFrame'>\n",
      "Int64Index: 9 entries, 9305 to 95528\n",
      "Data columns (total 3 columns):\n",
      " #   Column         Non-Null Count  Dtype  \n",
      "---  ------         --------------  -----  \n",
      " 0   tconst         9 non-null      object \n",
      " 1   averageRating  9 non-null      float64\n",
      " 2   numVotes       9 non-null      int64  \n",
      "dtypes: float64(1), int64(1), object(1)\n",
      "memory usage: 288.0+ bytes\n"
     ]
    }
   ],
   "source": [
    "ratings.info()"
   ]
  },
  {
   "cell_type": "markdown",
   "id": "ca558a4c-5b53-4751-839f-d207a3187878",
   "metadata": {},
   "source": [
    "## 8. Saving Dataframes"
   ]
  },
  {
   "cell_type": "markdown",
   "id": "e1b53396-4438-4c74-aca2-25d12ba59e38",
   "metadata": {},
   "source": [
    "### 8.1 Basics Dataframe"
   ]
  },
  {
   "cell_type": "code",
   "execution_count": 18,
   "id": "8b7f0b75-920b-4ffe-941c-c1f7d7a267a8",
   "metadata": {},
   "outputs": [
    {
     "data": {
      "text/html": [
       "<div>\n",
       "<style scoped>\n",
       "    .dataframe tbody tr th:only-of-type {\n",
       "        vertical-align: middle;\n",
       "    }\n",
       "\n",
       "    .dataframe tbody tr th {\n",
       "        vertical-align: top;\n",
       "    }\n",
       "\n",
       "    .dataframe thead th {\n",
       "        text-align: right;\n",
       "    }\n",
       "</style>\n",
       "<table border=\"1\" class=\"dataframe\">\n",
       "  <thead>\n",
       "    <tr style=\"text-align: right;\">\n",
       "      <th></th>\n",
       "      <th>tconst</th>\n",
       "      <th>titleType</th>\n",
       "      <th>primaryTitle</th>\n",
       "      <th>originalTitle</th>\n",
       "      <th>isAdult</th>\n",
       "      <th>startYear</th>\n",
       "      <th>endYear</th>\n",
       "      <th>runtimeMinutes</th>\n",
       "      <th>genres</th>\n",
       "    </tr>\n",
       "  </thead>\n",
       "  <tbody>\n",
       "  </tbody>\n",
       "</table>\n",
       "</div>"
      ],
      "text/plain": [
       "Empty DataFrame\n",
       "Columns: [tconst, titleType, primaryTitle, originalTitle, isAdult, startYear, endYear, runtimeMinutes, genres]\n",
       "Index: []"
      ]
     },
     "execution_count": 18,
     "metadata": {},
     "output_type": "execute_result"
    }
   ],
   "source": [
    "## Save current dataframe to file.\n",
    "basics.to_csv(\"Data/title_basics.csv.gz\",compression='gzip',index=False)\n",
    "\n",
    "# Open saved file and preview again\n",
    "basics = pd.read_csv(\"Data/title_basics.csv.gz\", low_memory = False)\n",
    "basics.head()"
   ]
  },
  {
   "cell_type": "markdown",
   "id": "ccbcae9c-8570-4dd3-8928-8e9fb9ac22bb",
   "metadata": {},
   "source": [
    "### 8.2 Akas Dataframe"
   ]
  },
  {
   "cell_type": "code",
   "execution_count": 19,
   "id": "a68bb30b-dbbc-414d-8135-f1c5258d4e6d",
   "metadata": {},
   "outputs": [
    {
     "data": {
      "text/html": [
       "<div>\n",
       "<style scoped>\n",
       "    .dataframe tbody tr th:only-of-type {\n",
       "        vertical-align: middle;\n",
       "    }\n",
       "\n",
       "    .dataframe tbody tr th {\n",
       "        vertical-align: top;\n",
       "    }\n",
       "\n",
       "    .dataframe thead th {\n",
       "        text-align: right;\n",
       "    }\n",
       "</style>\n",
       "<table border=\"1\" class=\"dataframe\">\n",
       "  <thead>\n",
       "    <tr style=\"text-align: right;\">\n",
       "      <th></th>\n",
       "      <th>titleId</th>\n",
       "      <th>ordering</th>\n",
       "      <th>title</th>\n",
       "      <th>region</th>\n",
       "      <th>language</th>\n",
       "      <th>types</th>\n",
       "      <th>attributes</th>\n",
       "      <th>isOriginalTitle</th>\n",
       "    </tr>\n",
       "  </thead>\n",
       "  <tbody>\n",
       "    <tr>\n",
       "      <th>0</th>\n",
       "      <td>tt0022542</td>\n",
       "      <td>1</td>\n",
       "      <td>Di shtime fun Yisroel</td>\n",
       "      <td>US</td>\n",
       "      <td>yi</td>\n",
       "      <td>alternative</td>\n",
       "      <td>YIVO translation</td>\n",
       "      <td>0</td>\n",
       "    </tr>\n",
       "    <tr>\n",
       "      <th>1</th>\n",
       "      <td>tt0024265</td>\n",
       "      <td>4</td>\n",
       "      <td>Geleb un gelakht</td>\n",
       "      <td>US</td>\n",
       "      <td>yi</td>\n",
       "      <td>alternative</td>\n",
       "      <td>modern translation</td>\n",
       "      <td>0</td>\n",
       "    </tr>\n",
       "    <tr>\n",
       "      <th>2</th>\n",
       "      <td>tt0024751</td>\n",
       "      <td>9</td>\n",
       "      <td>Avram Ovenu</td>\n",
       "      <td>US</td>\n",
       "      <td>yi</td>\n",
       "      <td>alternative</td>\n",
       "      <td>YIVO translation</td>\n",
       "      <td>0</td>\n",
       "    </tr>\n",
       "    <tr>\n",
       "      <th>3</th>\n",
       "      <td>tt0026010</td>\n",
       "      <td>3</td>\n",
       "      <td>Der yidishe Kenigen Lir</td>\n",
       "      <td>US</td>\n",
       "      <td>yi</td>\n",
       "      <td>alternative</td>\n",
       "      <td>YIVO translation</td>\n",
       "      <td>0</td>\n",
       "    </tr>\n",
       "    <tr>\n",
       "      <th>4</th>\n",
       "      <td>tt0027911</td>\n",
       "      <td>1</td>\n",
       "      <td>Libe un Laydnshaft</td>\n",
       "      <td>US</td>\n",
       "      <td>yi</td>\n",
       "      <td>alternative</td>\n",
       "      <td>modern translation</td>\n",
       "      <td>0</td>\n",
       "    </tr>\n",
       "  </tbody>\n",
       "</table>\n",
       "</div>"
      ],
      "text/plain": [
       "     titleId  ordering                    title region language        types  \\\n",
       "0  tt0022542         1    Di shtime fun Yisroel     US       yi  alternative   \n",
       "1  tt0024265         4         Geleb un gelakht     US       yi  alternative   \n",
       "2  tt0024751         9              Avram Ovenu     US       yi  alternative   \n",
       "3  tt0026010         3  Der yidishe Kenigen Lir     US       yi  alternative   \n",
       "4  tt0027911         1       Libe un Laydnshaft     US       yi  alternative   \n",
       "\n",
       "           attributes  isOriginalTitle  \n",
       "0    YIVO translation                0  \n",
       "1  modern translation                0  \n",
       "2    YIVO translation                0  \n",
       "3    YIVO translation                0  \n",
       "4  modern translation                0  "
      ]
     },
     "execution_count": 19,
     "metadata": {},
     "output_type": "execute_result"
    }
   ],
   "source": [
    "## Save current dataframe to file.\n",
    "akas.to_csv(\"Data/title_akas.csv.gz\",compression='gzip',index=False)\n",
    "\n",
    "# Open saved file and preview again\n",
    "akas = pd.read_csv(\"Data/title_akas.csv.gz\",compression='gzip')\n",
    "akas.head()"
   ]
  },
  {
   "cell_type": "markdown",
   "id": "9615840d-b30a-418f-a7b5-21620ecaba5f",
   "metadata": {},
   "source": [
    "### 8.3 Ratings Dataframe"
   ]
  },
  {
   "cell_type": "code",
   "execution_count": 20,
   "id": "36136277-18cc-46a7-bebc-24d1342f3e22",
   "metadata": {},
   "outputs": [
    {
     "data": {
      "text/html": [
       "<div>\n",
       "<style scoped>\n",
       "    .dataframe tbody tr th:only-of-type {\n",
       "        vertical-align: middle;\n",
       "    }\n",
       "\n",
       "    .dataframe tbody tr th {\n",
       "        vertical-align: top;\n",
       "    }\n",
       "\n",
       "    .dataframe thead th {\n",
       "        text-align: right;\n",
       "    }\n",
       "</style>\n",
       "<table border=\"1\" class=\"dataframe\">\n",
       "  <thead>\n",
       "    <tr style=\"text-align: right;\">\n",
       "      <th></th>\n",
       "      <th>tconst</th>\n",
       "      <th>averageRating</th>\n",
       "      <th>numVotes</th>\n",
       "    </tr>\n",
       "  </thead>\n",
       "  <tbody>\n",
       "    <tr>\n",
       "      <th>0</th>\n",
       "      <td>tt0024751</td>\n",
       "      <td>6.3</td>\n",
       "      <td>27</td>\n",
       "    </tr>\n",
       "    <tr>\n",
       "      <th>1</th>\n",
       "      <td>tt0026010</td>\n",
       "      <td>6.1</td>\n",
       "      <td>24</td>\n",
       "    </tr>\n",
       "    <tr>\n",
       "      <th>2</th>\n",
       "      <td>tt0028902</td>\n",
       "      <td>5.1</td>\n",
       "      <td>14</td>\n",
       "    </tr>\n",
       "    <tr>\n",
       "      <th>3</th>\n",
       "      <td>tt0028957</td>\n",
       "      <td>6.7</td>\n",
       "      <td>102</td>\n",
       "    </tr>\n",
       "    <tr>\n",
       "      <th>4</th>\n",
       "      <td>tt0031697</td>\n",
       "      <td>6.0</td>\n",
       "      <td>12</td>\n",
       "    </tr>\n",
       "  </tbody>\n",
       "</table>\n",
       "</div>"
      ],
      "text/plain": [
       "      tconst  averageRating  numVotes\n",
       "0  tt0024751            6.3        27\n",
       "1  tt0026010            6.1        24\n",
       "2  tt0028902            5.1        14\n",
       "3  tt0028957            6.7       102\n",
       "4  tt0031697            6.0        12"
      ]
     },
     "execution_count": 20,
     "metadata": {},
     "output_type": "execute_result"
    }
   ],
   "source": [
    "## Save current dataframe to file.\n",
    "ratings.to_csv(\"Data/title_ratings.csv.gz\",compression='gzip',index=False)\n",
    "\n",
    "# Open saved file and preview again\n",
    "ratings = pd.read_csv(\"Data/title_ratings.csv.gz\",compression='gzip')\n",
    "ratings.head()"
   ]
  },
  {
   "cell_type": "code",
   "execution_count": null,
   "id": "6d0bda25-7bc6-4a20-8a90-6a07dd4ec383",
   "metadata": {},
   "outputs": [],
   "source": []
  }
 ],
 "metadata": {
  "kernelspec": {
   "display_name": "Python 3 (ipykernel)",
   "language": "python",
   "name": "python3"
  },
  "language_info": {
   "codemirror_mode": {
    "name": "ipython",
    "version": 3
   },
   "file_extension": ".py",
   "mimetype": "text/x-python",
   "name": "python",
   "nbconvert_exporter": "python",
   "pygments_lexer": "ipython3",
   "version": "3.9.15"
  }
 },
 "nbformat": 4,
 "nbformat_minor": 5
}
