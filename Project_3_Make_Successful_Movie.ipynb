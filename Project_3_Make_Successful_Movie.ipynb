{
 "cells": [
  {
   "cell_type": "markdown",
   "id": "a3ad6ef3-1f45-4f56-899f-d43caa409966",
   "metadata": {},
   "source": [
    "# Project 3 Part 1 (Core)\n",
    "\n",
    "Rodrigo Arguello-Serrano"
   ]
  },
  {
   "cell_type": "markdown",
   "id": "1b2635ac-c350-4273-b922-85b8a46361ec",
   "metadata": {},
   "source": [
    "# Business Problem"
   ]
  },
  {
   "cell_type": "markdown",
   "id": "99509f4a-200b-478b-846c-2e789b4a52ca",
   "metadata": {},
   "source": [
    ">For this project, I produce a MySQL database on Movies from a subset of IMDB's publicly available dataset. I will use this database to analyze what makes a movie successful and provide recommendations to the stakeholder on how to make a successful movie."
   ]
  },
  {
   "cell_type": "markdown",
   "id": "f4dcbfe8-440c-4214-bb03-364a00fd3e50",
   "metadata": {},
   "source": [
    "# Specifications\n",
    "\n",
    "\n",
    "> - Exclude any movie with missing values for genre or runtime\n",
    "> - Include only full-length movies (titleType = \"movie\").\n",
    "> - Include only fictional movies (not from documentary genre)\n",
    "> - Include only movies that were released 2000 - 2021 (include 2000 and 2021)\n",
    "> - Include only movies that were released in the United States"
   ]
  },
  {
   "cell_type": "markdown",
   "id": "e32fa929-26ec-4810-a0fe-8f1555810159",
   "metadata": {
    "tags": []
   },
   "source": [
    "<a name=\"1.1\"></a>\n",
    "<h2> 1. 📒Data Dictionary: IMDb Dataset Details </h2>"
   ]
  },
  {
   "cell_type": "markdown",
   "id": "03f65297-0088-4907-9a88-70b2c0bddd25",
   "metadata": {},
   "source": [
    "\n",
    "\n",
    "**title.akas.tsv.gz** - Contains the following information for titles:\n",
    "titleId (string) - a tconst, an alphanumeric unique identifier of the title<br>\n",
    "ordering (integer) – a number to uniquely identify rows for a given titleId<br>\n",
    "title (string) – the localized title<br>\n",
    "region (string) - the region for this version of the title<br>\n",
    "language (string) - the language of the title<br>\n",
    "types (array) - Enumerated set of attributes for this alternative title. One or more of the following: \"alternative\", \"dvd\", \"festival\", \"tv\", \"video\", \"working\", \"original\", \"imdbDisplay\".<br>\n",
    "attributes (array) - Additional terms to describe this alternative title, not enumerated<br>\n",
    "isOriginalTitle (boolean) – 0: not original title; 1: original title\n",
    "<br>\n",
    "<br>\n",
    "**title.basics.tsv.gz** - Contains the following information for titles:<br>\n",
    "tconst (string) - alphanumeric unique identifier of the title<br>\n",
    "titleType (string) – the type/format of the title (e.g. movie, short, tvseries, tvepisode, video, etc)<br>\n",
    "primaryTitle (string) – the more popular title / the title used by the filmmakers on promotional materials at the point of release<br>\n",
    "originalTitle (string) - original title, in the original language<br>\n",
    "isAdult (boolean) - 0: non-adult title; 1: adult title<br>\n",
    "startYear (YYYY) – represents the release year of a title. In the case of TV Series, it is the series start year<br>\n",
    "endYear (YYYY) – TV Series end year. ‘\\N’ for all other title types<br>\n",
    "runtimeMinutes – primary runtime of the title, in minutes<br>\n",
    "genres (string array) – includes up to three genres associated with the title\n",
    "<br><br>\n",
    "**title.ratings.tsv.gz** – Contains the IMDb rating and votes information for titles<br>\n",
    "tconst (string) - alphanumeric unique identifier of the title<br>\n",
    "averageRating – weighted average of all the individual user ratings<br>\n",
    "numVotes - number of votes the title has received<br>\n",
    "[link text](http://url)\n",
    "This is [My Kaggle Account](https://www.kaggle.com/ahmetekiz)"
   ]
  },
  {
   "cell_type": "markdown",
   "id": "8e112d1c-d9cf-48c5-bb2f-27e1aa0b5380",
   "metadata": {},
   "source": [
    "## 2. Import Modules and Using the TMDB API"
   ]
  },
  {
   "cell_type": "code",
   "execution_count": 2,
   "id": "1eddd965-3f40-44bb-b1d9-a0d5c1da187c",
   "metadata": {},
   "outputs": [
    {
     "data": {
      "text/plain": [
       "['.DS_Store',\n",
       " 'title_akas.csv',\n",
       " 'title_basics.csv.gz',\n",
       " 'title_akas.csv.gz',\n",
       " 'title_ratings.csv.gz']"
      ]
     },
     "execution_count": 2,
     "metadata": {},
     "output_type": "execute_result"
    }
   ],
   "source": [
    "#Import Modules\n",
    "import pandas as pd\n",
    "import numpy as np\n",
    "import os, time, json\n",
    "\n",
    "import tmdbsimple as tmdb \n",
    "from tqdm.notebook import tqdm_notebook\n",
    "\n",
    "FOLDER = \"Data/\"\n",
    "os.makedirs(FOLDER, exist_ok=True)\n",
    "os.listdir(FOLDER)"
   ]
  },
  {
   "cell_type": "markdown",
   "id": "3996fc8f-cc3a-43c6-9597-769e4d3d4922",
   "metadata": {},
   "source": [
    "### 2.1 Using Your API Credentials"
   ]
  },
  {
   "cell_type": "code",
   "execution_count": 34,
   "id": "80160618-bc00-41ab-b3e3-ebb9c7c45184",
   "metadata": {},
   "outputs": [
    {
     "data": {
      "text/plain": [
       "dict_keys(['api-key'])"
      ]
     },
     "execution_count": 34,
     "metadata": {},
     "output_type": "execute_result"
    }
   ],
   "source": [
    "import json\n",
    "with open('/Users/rodrigoarguelloserrano/.secret/tmdb_api.json', 'r') as f:\n",
    "    login = json.load(f)\n",
    "## Display the keys of the loaded dict\n",
    "login.keys()\n"
   ]
  },
  {
   "cell_type": "markdown",
   "id": "d1566611-9a62-4282-b919-ced1330e9f88",
   "metadata": {},
   "source": [
    "### 2.2 Set the API_KEY"
   ]
  },
  {
   "cell_type": "code",
   "execution_count": 35,
   "id": "8ed6c52d-f4f5-40bb-8d1f-6f09bc8273ab",
   "metadata": {},
   "outputs": [],
   "source": [
    "#import the package and set the API_KEY\n",
    "tmdb.API_KEY =  login['api-key']"
   ]
  },
  {
   "cell_type": "markdown",
   "id": "0945c031-3741-4128-9459-1003dd0f0fac",
   "metadata": {},
   "source": [
    "### 2.3 proof-of-concept: List of the Years to Extract from the API and Error List"
   ]
  },
  {
   "cell_type": "code",
   "execution_count": 36,
   "id": "a4b0dc90-8036-4543-b3b4-d131ea894662",
   "metadata": {},
   "outputs": [],
   "source": [
    "YEARS_TO_GET = [2000,2001]"
   ]
  },
  {
   "cell_type": "code",
   "execution_count": 37,
   "id": "7a099dc3-60b0-4e5a-a7eb-4a882645a836",
   "metadata": {},
   "outputs": [],
   "source": [
    "errors = []"
   ]
  },
  {
   "cell_type": "markdown",
   "id": "50a45c71-0a80-4aed-8b64-77227db88c37",
   "metadata": {},
   "source": [
    "## 3. Upload datasets"
   ]
  },
  {
   "cell_type": "code",
   "execution_count": 3,
   "id": "bb26ec30-a57e-46de-aece-880e488e5ec1",
   "metadata": {},
   "outputs": [],
   "source": [
    "# Assigning dataset urls\n",
    "basics_url=\"https://datasets.imdbws.com/title.basics.tsv.gz\"\n",
    "akas_url=\"https://datasets.imdbws.com/title.akas.tsv.gz\"\n",
    "ratings_url=\"https://datasets.imdbws.com/title.ratings.tsv.gz\""
   ]
  },
  {
   "cell_type": "code",
   "execution_count": 4,
   "id": "68736654-d0b2-46cc-9709-9faced4ee6b3",
   "metadata": {},
   "outputs": [],
   "source": [
    "# Reading data and assigning to dataframe: basics\n",
    "basics = pd.read_csv(basics_url, sep='\\t', low_memory=False)\n",
    "# Repalcing missing values key \\N with numpy nan objects\n",
    "basics.replace({'\\\\N':np.nan},inplace=True)"
   ]
  },
  {
   "cell_type": "code",
   "execution_count": 5,
   "id": "a5da7cd1-e129-402c-ac11-c8cc987d67f6",
   "metadata": {},
   "outputs": [],
   "source": [
    "# Reading data and assigning to dataframe: akas\n",
    "akas = pd.read_csv(akas_url, sep='\\t', low_memory=False)\n",
    "# Repalcing missing values key \\N with numpy nan objects\n",
    "akas.replace({'\\\\N':np.nan},inplace=True)"
   ]
  },
  {
   "cell_type": "code",
   "execution_count": 6,
   "id": "4755b2da-80f4-4bd6-81ef-a4ef7b856985",
   "metadata": {},
   "outputs": [],
   "source": [
    "# Reading data and assigning to dataframe: \n",
    "ratings = pd.read_csv(ratings_url, sep='\\t', low_memory=False)\n",
    "# Repalcing missing values key \\N with numpy nan objects\n",
    "ratings.replace({'\\\\N':np.nan},inplace=True)"
   ]
  },
  {
   "cell_type": "markdown",
   "id": "9d8b0f81-96e9-4bcf-a5b4-205bcdd801ba",
   "metadata": {},
   "source": [
    "## 4. Akas data clean up"
   ]
  },
  {
   "cell_type": "code",
   "execution_count": 7,
   "id": "67e4a244-6c06-4d49-a497-8aa49e4bc20c",
   "metadata": {},
   "outputs": [],
   "source": [
    "# keep only US movies.\n",
    "akas = akas[akas['region']=='US']"
   ]
  },
  {
   "cell_type": "code",
   "execution_count": 8,
   "id": "bc06a58a-65d3-4372-b368-e21562e0256d",
   "metadata": {},
   "outputs": [
    {
     "data": {
      "text/plain": [
       "(1418920, 8)"
      ]
     },
     "execution_count": 8,
     "metadata": {},
     "output_type": "execute_result"
    }
   ],
   "source": [
    "akas.shape"
   ]
  },
  {
   "cell_type": "markdown",
   "id": "8b8389ef-dc79-4ee7-8de3-af80c696a903",
   "metadata": {},
   "source": [
    "## 5. Basics data clean up"
   ]
  },
  {
   "cell_type": "code",
   "execution_count": 9,
   "id": "7a850084-6daf-4605-b746-233ff9bed76e",
   "metadata": {},
   "outputs": [],
   "source": [
    "#Eliminate movies that are null for runtimeMinutes and generes\n",
    "basics=basics.dropna(subset=['runtimeMinutes','genres'])"
   ]
  },
  {
   "cell_type": "code",
   "execution_count": 10,
   "id": "9db5f021-6667-46db-8b5b-a36d43faaf00",
   "metadata": {},
   "outputs": [
    {
     "data": {
      "text/plain": [
       "(2758861, 9)"
      ]
     },
     "execution_count": 10,
     "metadata": {},
     "output_type": "execute_result"
    }
   ],
   "source": [
    "basics.shape"
   ]
  },
  {
   "cell_type": "code",
   "execution_count": 11,
   "id": "24bb3b37-a77a-4354-bcce-f5b642802c17",
   "metadata": {},
   "outputs": [],
   "source": [
    "#keep only titleType==Movie\n",
    "basics=basics[basics['titleType']=='movie']"
   ]
  },
  {
   "cell_type": "code",
   "execution_count": 12,
   "id": "d4fe298f-7f7d-4c4d-bb6e-75f62d4ede09",
   "metadata": {},
   "outputs": [
    {
     "data": {
      "text/plain": [
       "(378331, 9)"
      ]
     },
     "execution_count": 12,
     "metadata": {},
     "output_type": "execute_result"
    }
   ],
   "source": [
    "basics.shape"
   ]
  },
  {
   "cell_type": "code",
   "execution_count": 13,
   "id": "6585ef86-98e5-4275-ab3d-4a70bc7c0d1f",
   "metadata": {},
   "outputs": [],
   "source": [
    "basics['startYear'] = basics['startYear'].astype(float)"
   ]
  },
  {
   "cell_type": "code",
   "execution_count": 14,
   "id": "000f9b89-c5e1-4722-b770-ee9768ad53b2",
   "metadata": {},
   "outputs": [],
   "source": [
    "#keep startYear 2000-2022\n",
    "basics = basics[(basics['startYear']<=2022.0)&(basics['startYear']>=2000.0)]"
   ]
  },
  {
   "cell_type": "code",
   "execution_count": 15,
   "id": "097bc377-9403-466a-8527-8fb70cafb33a",
   "metadata": {},
   "outputs": [
    {
     "data": {
      "text/plain": [
       "(221980, 9)"
      ]
     },
     "execution_count": 15,
     "metadata": {},
     "output_type": "execute_result"
    }
   ],
   "source": [
    "basics.shape"
   ]
  },
  {
   "cell_type": "code",
   "execution_count": 16,
   "id": "8146d5b7-933d-4d0b-b623-2eeb1a0253c6",
   "metadata": {},
   "outputs": [],
   "source": [
    "# Eliminate movies that include \"Documentary\" in genre (see tip below)\n",
    "is_documentary = basics['genres'].str.contains('documentary',case=False)\n",
    "basics= basics[~is_documentary]"
   ]
  },
  {
   "cell_type": "code",
   "execution_count": 17,
   "id": "5d7c4e0b-9f9a-4220-9965-bc069e7adecf",
   "metadata": {},
   "outputs": [
    {
     "data": {
      "text/plain": [
       "True     85744\n",
       "False    60995\n",
       "Name: tconst, dtype: int64"
      ]
     },
     "execution_count": 17,
     "metadata": {},
     "output_type": "execute_result"
    }
   ],
   "source": [
    "basics['tconst'].isin(akas['titleId']).value_counts()"
   ]
  },
  {
   "cell_type": "code",
   "execution_count": 18,
   "id": "ff69c4e0-e735-4583-9d47-d25f7aef7f05",
   "metadata": {},
   "outputs": [],
   "source": [
    "#Keep only US movies\n",
    "keepers =basics['tconst'].isin(akas['titleId'])\n",
    "basics = basics[keepers]"
   ]
  },
  {
   "cell_type": "markdown",
   "id": "54a1cacd-6a96-45b9-b666-29a11e7477f7",
   "metadata": {},
   "source": [
    "## 5. Ratings data clean up"
   ]
  },
  {
   "cell_type": "code",
   "execution_count": 19,
   "id": "be7043d8-6c67-489f-8e2c-1fc9c3ae08bf",
   "metadata": {
    "tags": []
   },
   "outputs": [],
   "source": [
    "#Keep only US movies\n",
    "keepers_r =ratings['tconst'].isin(akas['titleId'])\n",
    "ratings = ratings[keepers_r]"
   ]
  },
  {
   "cell_type": "code",
   "execution_count": 20,
   "id": "80421cf1-2ec9-4f25-9199-7d965c725cc2",
   "metadata": {},
   "outputs": [],
   "source": [
    "# Dropping all rows with nan values from akka\n",
    "akas = akas.dropna()"
   ]
  },
  {
   "cell_type": "markdown",
   "id": "d82582c8-41c6-449f-8a13-d5c1dba8db74",
   "metadata": {},
   "source": [
    "## 7. Checking Dataframe Info"
   ]
  },
  {
   "cell_type": "code",
   "execution_count": 21,
   "id": "d0f851cb-cb71-411b-a68c-cf6e0d753dde",
   "metadata": {},
   "outputs": [
    {
     "name": "stdout",
     "output_type": "stream",
     "text": [
      "<class 'pandas.core.frame.DataFrame'>\n",
      "Int64Index: 85744 entries, 34803 to 9663938\n",
      "Data columns (total 9 columns):\n",
      " #   Column          Non-Null Count  Dtype  \n",
      "---  ------          --------------  -----  \n",
      " 0   tconst          85744 non-null  object \n",
      " 1   titleType       85744 non-null  object \n",
      " 2   primaryTitle    85744 non-null  object \n",
      " 3   originalTitle   85744 non-null  object \n",
      " 4   isAdult         85744 non-null  object \n",
      " 5   startYear       85744 non-null  float64\n",
      " 6   endYear         0 non-null      object \n",
      " 7   runtimeMinutes  85744 non-null  object \n",
      " 8   genres          85744 non-null  object \n",
      "dtypes: float64(1), object(8)\n",
      "memory usage: 6.5+ MB\n"
     ]
    }
   ],
   "source": [
    "basics.info()"
   ]
  },
  {
   "cell_type": "code",
   "execution_count": 22,
   "id": "b67417e9-ce7f-49b8-b34c-bc9921456de7",
   "metadata": {},
   "outputs": [],
   "source": [
    "# Dropping all rows with nan values from akka\n",
    "akas = akas.dropna()"
   ]
  },
  {
   "cell_type": "code",
   "execution_count": 23,
   "id": "a36cee34-1dab-47f3-9c32-7819b37fca9b",
   "metadata": {},
   "outputs": [
    {
     "name": "stdout",
     "output_type": "stream",
     "text": [
      "<class 'pandas.core.frame.DataFrame'>\n",
      "Int64Index: 22 entries, 102334 to 1051596\n",
      "Data columns (total 8 columns):\n",
      " #   Column           Non-Null Count  Dtype \n",
      "---  ------           --------------  ----- \n",
      " 0   titleId          22 non-null     object\n",
      " 1   ordering         22 non-null     int64 \n",
      " 2   title            22 non-null     object\n",
      " 3   region           22 non-null     object\n",
      " 4   language         22 non-null     object\n",
      " 5   types            22 non-null     object\n",
      " 6   attributes       22 non-null     object\n",
      " 7   isOriginalTitle  22 non-null     object\n",
      "dtypes: int64(1), object(7)\n",
      "memory usage: 1.5+ KB\n"
     ]
    }
   ],
   "source": [
    "akas.info()"
   ]
  },
  {
   "cell_type": "code",
   "execution_count": 24,
   "id": "d24fb34e-169e-4ddf-85c0-6c49b0287497",
   "metadata": {},
   "outputs": [
    {
     "name": "stdout",
     "output_type": "stream",
     "text": [
      "<class 'pandas.core.frame.DataFrame'>\n",
      "Int64Index: 490971 entries, 0 to 1285659\n",
      "Data columns (total 3 columns):\n",
      " #   Column         Non-Null Count   Dtype  \n",
      "---  ------         --------------   -----  \n",
      " 0   tconst         490971 non-null  object \n",
      " 1   averageRating  490971 non-null  float64\n",
      " 2   numVotes       490971 non-null  int64  \n",
      "dtypes: float64(1), int64(1), object(1)\n",
      "memory usage: 15.0+ MB\n"
     ]
    }
   ],
   "source": [
    "ratings.info()"
   ]
  },
  {
   "cell_type": "markdown",
   "id": "ca558a4c-5b53-4751-839f-d207a3187878",
   "metadata": {},
   "source": [
    "## 8. Saving Dataframes"
   ]
  },
  {
   "cell_type": "markdown",
   "id": "e1b53396-4438-4c74-aca2-25d12ba59e38",
   "metadata": {},
   "source": [
    "### 8.1 Basics Dataframe"
   ]
  },
  {
   "cell_type": "code",
   "execution_count": 25,
   "id": "8b7f0b75-920b-4ffe-941c-c1f7d7a267a8",
   "metadata": {},
   "outputs": [
    {
     "data": {
      "text/html": [
       "<div>\n",
       "<style scoped>\n",
       "    .dataframe tbody tr th:only-of-type {\n",
       "        vertical-align: middle;\n",
       "    }\n",
       "\n",
       "    .dataframe tbody tr th {\n",
       "        vertical-align: top;\n",
       "    }\n",
       "\n",
       "    .dataframe thead th {\n",
       "        text-align: right;\n",
       "    }\n",
       "</style>\n",
       "<table border=\"1\" class=\"dataframe\">\n",
       "  <thead>\n",
       "    <tr style=\"text-align: right;\">\n",
       "      <th></th>\n",
       "      <th>tconst</th>\n",
       "      <th>titleType</th>\n",
       "      <th>primaryTitle</th>\n",
       "      <th>originalTitle</th>\n",
       "      <th>isAdult</th>\n",
       "      <th>startYear</th>\n",
       "      <th>endYear</th>\n",
       "      <th>runtimeMinutes</th>\n",
       "      <th>genres</th>\n",
       "    </tr>\n",
       "  </thead>\n",
       "  <tbody>\n",
       "    <tr>\n",
       "      <th>0</th>\n",
       "      <td>tt0035423</td>\n",
       "      <td>movie</td>\n",
       "      <td>Kate &amp; Leopold</td>\n",
       "      <td>Kate &amp; Leopold</td>\n",
       "      <td>0</td>\n",
       "      <td>2001.0</td>\n",
       "      <td>NaN</td>\n",
       "      <td>118</td>\n",
       "      <td>Comedy,Fantasy,Romance</td>\n",
       "    </tr>\n",
       "    <tr>\n",
       "      <th>1</th>\n",
       "      <td>tt0062336</td>\n",
       "      <td>movie</td>\n",
       "      <td>The Tango of the Widower and Its Distorting Mi...</td>\n",
       "      <td>El tango del viudo y su espejo deformante</td>\n",
       "      <td>0</td>\n",
       "      <td>2020.0</td>\n",
       "      <td>NaN</td>\n",
       "      <td>70</td>\n",
       "      <td>Drama</td>\n",
       "    </tr>\n",
       "    <tr>\n",
       "      <th>2</th>\n",
       "      <td>tt0069049</td>\n",
       "      <td>movie</td>\n",
       "      <td>The Other Side of the Wind</td>\n",
       "      <td>The Other Side of the Wind</td>\n",
       "      <td>0</td>\n",
       "      <td>2018.0</td>\n",
       "      <td>NaN</td>\n",
       "      <td>122</td>\n",
       "      <td>Drama</td>\n",
       "    </tr>\n",
       "    <tr>\n",
       "      <th>3</th>\n",
       "      <td>tt0088751</td>\n",
       "      <td>movie</td>\n",
       "      <td>The Naked Monster</td>\n",
       "      <td>The Naked Monster</td>\n",
       "      <td>0</td>\n",
       "      <td>2005.0</td>\n",
       "      <td>NaN</td>\n",
       "      <td>100</td>\n",
       "      <td>Comedy,Horror,Sci-Fi</td>\n",
       "    </tr>\n",
       "    <tr>\n",
       "      <th>4</th>\n",
       "      <td>tt0096056</td>\n",
       "      <td>movie</td>\n",
       "      <td>Crime and Punishment</td>\n",
       "      <td>Crime and Punishment</td>\n",
       "      <td>0</td>\n",
       "      <td>2002.0</td>\n",
       "      <td>NaN</td>\n",
       "      <td>126</td>\n",
       "      <td>Drama</td>\n",
       "    </tr>\n",
       "  </tbody>\n",
       "</table>\n",
       "</div>"
      ],
      "text/plain": [
       "      tconst titleType                                       primaryTitle  \\\n",
       "0  tt0035423     movie                                     Kate & Leopold   \n",
       "1  tt0062336     movie  The Tango of the Widower and Its Distorting Mi...   \n",
       "2  tt0069049     movie                         The Other Side of the Wind   \n",
       "3  tt0088751     movie                                  The Naked Monster   \n",
       "4  tt0096056     movie                               Crime and Punishment   \n",
       "\n",
       "                               originalTitle  isAdult  startYear  endYear  \\\n",
       "0                             Kate & Leopold        0     2001.0      NaN   \n",
       "1  El tango del viudo y su espejo deformante        0     2020.0      NaN   \n",
       "2                 The Other Side of the Wind        0     2018.0      NaN   \n",
       "3                          The Naked Monster        0     2005.0      NaN   \n",
       "4                       Crime and Punishment        0     2002.0      NaN   \n",
       "\n",
       "   runtimeMinutes                  genres  \n",
       "0             118  Comedy,Fantasy,Romance  \n",
       "1              70                   Drama  \n",
       "2             122                   Drama  \n",
       "3             100    Comedy,Horror,Sci-Fi  \n",
       "4             126                   Drama  "
      ]
     },
     "execution_count": 25,
     "metadata": {},
     "output_type": "execute_result"
    }
   ],
   "source": [
    "## Save current dataframe to file.\n",
    "basics.to_csv(f\"{FOLDER}title_basics.csv.gz\",compression='gzip',index=False)\n",
    "\n",
    "# Open saved file and preview again\n",
    "basics = pd.read_csv(f\"{FOLDER}title_basics.csv.gz\", low_memory = False)\n",
    "basics.head()"
   ]
  },
  {
   "cell_type": "markdown",
   "id": "ccbcae9c-8570-4dd3-8928-8e9fb9ac22bb",
   "metadata": {},
   "source": [
    "### 8.2 Akas Dataframe"
   ]
  },
  {
   "cell_type": "code",
   "execution_count": 27,
   "id": "a68bb30b-dbbc-414d-8135-f1c5258d4e6d",
   "metadata": {},
   "outputs": [
    {
     "data": {
      "text/html": [
       "<div>\n",
       "<style scoped>\n",
       "    .dataframe tbody tr th:only-of-type {\n",
       "        vertical-align: middle;\n",
       "    }\n",
       "\n",
       "    .dataframe tbody tr th {\n",
       "        vertical-align: top;\n",
       "    }\n",
       "\n",
       "    .dataframe thead th {\n",
       "        text-align: right;\n",
       "    }\n",
       "</style>\n",
       "<table border=\"1\" class=\"dataframe\">\n",
       "  <thead>\n",
       "    <tr style=\"text-align: right;\">\n",
       "      <th></th>\n",
       "      <th>titleId</th>\n",
       "      <th>ordering</th>\n",
       "      <th>title</th>\n",
       "      <th>region</th>\n",
       "      <th>language</th>\n",
       "      <th>types</th>\n",
       "      <th>attributes</th>\n",
       "      <th>isOriginalTitle</th>\n",
       "    </tr>\n",
       "  </thead>\n",
       "  <tbody>\n",
       "    <tr>\n",
       "      <th>0</th>\n",
       "      <td>tt0022542</td>\n",
       "      <td>1</td>\n",
       "      <td>Di shtime fun Yisroel</td>\n",
       "      <td>US</td>\n",
       "      <td>yi</td>\n",
       "      <td>alternative</td>\n",
       "      <td>YIVO translation</td>\n",
       "      <td>0</td>\n",
       "    </tr>\n",
       "    <tr>\n",
       "      <th>1</th>\n",
       "      <td>tt0024265</td>\n",
       "      <td>4</td>\n",
       "      <td>Geleb un gelakht</td>\n",
       "      <td>US</td>\n",
       "      <td>yi</td>\n",
       "      <td>alternative</td>\n",
       "      <td>modern translation</td>\n",
       "      <td>0</td>\n",
       "    </tr>\n",
       "    <tr>\n",
       "      <th>2</th>\n",
       "      <td>tt0024751</td>\n",
       "      <td>9</td>\n",
       "      <td>Avram Ovenu</td>\n",
       "      <td>US</td>\n",
       "      <td>yi</td>\n",
       "      <td>alternative</td>\n",
       "      <td>YIVO translation</td>\n",
       "      <td>0</td>\n",
       "    </tr>\n",
       "    <tr>\n",
       "      <th>3</th>\n",
       "      <td>tt0026010</td>\n",
       "      <td>3</td>\n",
       "      <td>Der yidishe Kenigen Lir</td>\n",
       "      <td>US</td>\n",
       "      <td>yi</td>\n",
       "      <td>alternative</td>\n",
       "      <td>YIVO translation</td>\n",
       "      <td>0</td>\n",
       "    </tr>\n",
       "    <tr>\n",
       "      <th>4</th>\n",
       "      <td>tt0027911</td>\n",
       "      <td>1</td>\n",
       "      <td>Libe un Laydnshaft</td>\n",
       "      <td>US</td>\n",
       "      <td>yi</td>\n",
       "      <td>alternative</td>\n",
       "      <td>modern translation</td>\n",
       "      <td>0</td>\n",
       "    </tr>\n",
       "  </tbody>\n",
       "</table>\n",
       "</div>"
      ],
      "text/plain": [
       "     titleId  ordering                    title region language        types  \\\n",
       "0  tt0022542         1    Di shtime fun Yisroel     US       yi  alternative   \n",
       "1  tt0024265         4         Geleb un gelakht     US       yi  alternative   \n",
       "2  tt0024751         9              Avram Ovenu     US       yi  alternative   \n",
       "3  tt0026010         3  Der yidishe Kenigen Lir     US       yi  alternative   \n",
       "4  tt0027911         1       Libe un Laydnshaft     US       yi  alternative   \n",
       "\n",
       "           attributes  isOriginalTitle  \n",
       "0    YIVO translation                0  \n",
       "1  modern translation                0  \n",
       "2    YIVO translation                0  \n",
       "3    YIVO translation                0  \n",
       "4  modern translation                0  "
      ]
     },
     "execution_count": 27,
     "metadata": {},
     "output_type": "execute_result"
    }
   ],
   "source": [
    "## Save current dataframe to file.\n",
    "akas.to_csv(f\"{FOLDER}title_akas.csv.gz\",compression='gzip',index=False)\n",
    "\n",
    "# Open saved file and preview again\n",
    "akas = pd.read_csv(f\"{FOLDER}title_akas.csv.gz\",compression='gzip')\n",
    "akas.head()"
   ]
  },
  {
   "cell_type": "markdown",
   "id": "9615840d-b30a-418f-a7b5-21620ecaba5f",
   "metadata": {},
   "source": [
    "### 8.3 Ratings Dataframe"
   ]
  },
  {
   "cell_type": "code",
   "execution_count": 28,
   "id": "36136277-18cc-46a7-bebc-24d1342f3e22",
   "metadata": {},
   "outputs": [
    {
     "data": {
      "text/html": [
       "<div>\n",
       "<style scoped>\n",
       "    .dataframe tbody tr th:only-of-type {\n",
       "        vertical-align: middle;\n",
       "    }\n",
       "\n",
       "    .dataframe tbody tr th {\n",
       "        vertical-align: top;\n",
       "    }\n",
       "\n",
       "    .dataframe thead th {\n",
       "        text-align: right;\n",
       "    }\n",
       "</style>\n",
       "<table border=\"1\" class=\"dataframe\">\n",
       "  <thead>\n",
       "    <tr style=\"text-align: right;\">\n",
       "      <th></th>\n",
       "      <th>tconst</th>\n",
       "      <th>averageRating</th>\n",
       "      <th>numVotes</th>\n",
       "    </tr>\n",
       "  </thead>\n",
       "  <tbody>\n",
       "    <tr>\n",
       "      <th>0</th>\n",
       "      <td>tt0000001</td>\n",
       "      <td>5.7</td>\n",
       "      <td>1957</td>\n",
       "    </tr>\n",
       "    <tr>\n",
       "      <th>1</th>\n",
       "      <td>tt0000002</td>\n",
       "      <td>5.8</td>\n",
       "      <td>263</td>\n",
       "    </tr>\n",
       "    <tr>\n",
       "      <th>2</th>\n",
       "      <td>tt0000005</td>\n",
       "      <td>6.2</td>\n",
       "      <td>2594</td>\n",
       "    </tr>\n",
       "    <tr>\n",
       "      <th>3</th>\n",
       "      <td>tt0000006</td>\n",
       "      <td>5.1</td>\n",
       "      <td>177</td>\n",
       "    </tr>\n",
       "    <tr>\n",
       "      <th>4</th>\n",
       "      <td>tt0000007</td>\n",
       "      <td>5.4</td>\n",
       "      <td>812</td>\n",
       "    </tr>\n",
       "  </tbody>\n",
       "</table>\n",
       "</div>"
      ],
      "text/plain": [
       "      tconst  averageRating  numVotes\n",
       "0  tt0000001            5.7      1957\n",
       "1  tt0000002            5.8       263\n",
       "2  tt0000005            6.2      2594\n",
       "3  tt0000006            5.1       177\n",
       "4  tt0000007            5.4       812"
      ]
     },
     "execution_count": 28,
     "metadata": {},
     "output_type": "execute_result"
    }
   ],
   "source": [
    "## Save current dataframe to file.\n",
    "ratings.to_csv(f\"{FOLDER}title_ratings.csv.gz\",compression='gzip',index=False)\n",
    "\n",
    "# Open saved file and preview again\n",
    "ratings = pd.read_csv(f\"{FOLDER}title_ratings.csv.gz\",compression='gzip')\n",
    "ratings.head()"
   ]
  },
  {
   "cell_type": "markdown",
   "id": "f7fde858-84a3-4bf1-b44c-caaca34541f9",
   "metadata": {},
   "source": [
    "## 9. Helper Functiona"
   ]
  },
  {
   "cell_type": "code",
   "execution_count": 29,
   "id": "18c49f70-0ca8-46f3-aaad-f62db31dfc51",
   "metadata": {},
   "outputs": [],
   "source": [
    "def write_json(new_data, filename): \n",
    "    \"\"\"Appends a list of records (new_data) to a json file (filename). \n",
    "    Adapted from: https://www.geeksforgeeks.org/append-to-json-file-using-python/\"\"\"  \n",
    "    \n",
    "    with open(filename,'r+') as file:\n",
    "        # First we load existing data into a dict.\n",
    "        file_data = json.load(file)\n",
    "        ## Choose extend or append\n",
    "        if (type(new_data) == list) & (type(file_data) == list):\n",
    "            file_data.extend(new_data)\n",
    "        else:\n",
    "             file_data.append(new_data)\n",
    "        # Sets file's current position at offset.\n",
    "        file.seek(0)\n",
    "        # convert back to json.\n",
    "        json.dump(file_data, file)"
   ]
  },
  {
   "cell_type": "code",
   "execution_count": 31,
   "id": "89501313-6b9a-444a-b53f-9061fed971c6",
   "metadata": {},
   "outputs": [],
   "source": [
    "def get_movie_with_rating(movie_id):\n",
    "# Get the movie object for the current id\n",
    "    movie = tmdb.Movies(movie_id)\n",
    "    # save the .info .releases dictionaries\n",
    "    info = movie.info()\n",
    "    releases = movie.releases()\n",
    "    # Loop through countries in releases\n",
    "    for c in releases['countries']:\n",
    "        # if the country abbreviation==US\n",
    "        if c['iso_3166_1' ] =='US':\n",
    "            ## save a \"certification\" key in the info dict with the certification\n",
    "            info['certification'] = c['certification']\n",
    "    return info"
   ]
  },
  {
   "cell_type": "markdown",
   "id": "6f64f045-22a9-4300-ada2-d153a3066933",
   "metadata": {},
   "source": [
    "## 10. Loop Funtion to retrive YEARS with ratings"
   ]
  },
  {
   "cell_type": "code",
   "execution_count": 38,
   "id": "abc090c6-c6aa-47ab-be0a-abd3693fc007",
   "metadata": {},
   "outputs": [
    {
     "data": {
      "application/vnd.jupyter.widget-view+json": {
       "model_id": "b9498ba02c2c4d0d939d0f98099f3f17",
       "version_major": 2,
       "version_minor": 0
      },
      "text/plain": [
       "YEARS:   0%|          | 0/2 [00:00<?, ?it/s]"
      ]
     },
     "metadata": {},
     "output_type": "display_data"
    },
    {
     "data": {
      "application/vnd.jupyter.widget-view+json": {
       "model_id": "05d999a410124dd2b0702f47ff00d37d",
       "version_major": 2,
       "version_minor": 0
      },
      "text/plain": [
       "Movies from 2000:   0%|          | 0/1434 [00:00<?, ?it/s]"
      ]
     },
     "metadata": {},
     "output_type": "display_data"
    },
    {
     "data": {
      "application/vnd.jupyter.widget-view+json": {
       "model_id": "931fb86e6b3d4f75bc42ed31384ca2be",
       "version_major": 2,
       "version_minor": 0
      },
      "text/plain": [
       "Movies from 2001:   0%|          | 0/1551 [00:00<?, ?it/s]"
      ]
     },
     "metadata": {},
     "output_type": "display_data"
    },
    {
     "name": "stdout",
     "output_type": "stream",
     "text": [
      "- Total errors: 455\n"
     ]
    }
   ],
   "source": [
    "# Start of OUTER loop\n",
    "for YEAR in tqdm_notebook(YEARS_TO_GET, desc='YEARS', position=0):\n",
    "    #Defining the JSON file to store results for year\n",
    "    JSON_FILE = f'{FOLDER}tmdb_api_results_{YEAR}.json'\n",
    "    # Check if file exists\n",
    "    file_exists = os.path.isfile(JSON_FILE)\n",
    "    # If it does not exist: create it\n",
    "    if file_exists == False:\n",
    "    # save an empty dict with just \"imdb_id\" to the new json file.\n",
    "        with open(JSON_FILE,'w') as f:\n",
    "            json.dump([{'imdb_id':0}],f)\n",
    "\n",
    "    #Saving new year as the current df\n",
    "    df = basics.loc[ basics['startYear']==YEAR].copy()\n",
    "    # saving movie ids to list\n",
    "    movie_ids = df['tconst'].copy()\n",
    "    # Load existing data from json into a dataframe called \"previous_df\"\n",
    "    previous_df = pd.read_json(JSON_FILE)\n",
    "    # filter out any ids that are already in the JSON_FILE\n",
    "    movie_ids_to_get = movie_ids[~movie_ids.isin(previous_df['imdb_id'])]\n",
    "\n",
    "    #Get index and movie id from list\n",
    "    # INNER Loop\n",
    "    for movie_id in tqdm_notebook(movie_ids_to_get,\n",
    "                                  desc=f'Movies from {YEAR}',\n",
    "                                  position=1,\n",
    "                                  leave=True):\n",
    "        try:\n",
    "            # Retrieve then data for the movie id\n",
    "            temp = get_movie_with_rating(movie_id)  \n",
    "            # Append/extend results to existing file using a pre-made function\n",
    "            write_json(temp,JSON_FILE)\n",
    "            # Short 20 ms sleep to prevent overwhelming server\n",
    "            time.sleep(0.02)\n",
    "            \n",
    "        except Exception as e:\n",
    "            errors.append([movie_id, e])\n",
    "\n",
    "    final_year_df = pd.read_json(JSON_FILE)\n",
    "    final_year_df.to_csv(f\"{FOLDER}final_tmdb_data_{YEAR}.csv.gz\", compression=\"gzip\", index=False)\n",
    "\n",
    "print(f\"- Total errors: {len(errors)}\")"
   ]
  },
  {
   "cell_type": "markdown",
   "id": "5f5a72ae-78ad-4c57-b07b-155c3d7d93c1",
   "metadata": {},
   "source": [
    "> Testing our function by looping through a list of ids: tt0848228 (\"The Avengers\") and tt0332280 (\"The Notebook\")"
   ]
  },
  {
   "cell_type": "code",
   "execution_count": 39,
   "id": "0bc1f0d6-a4b4-41f8-9992-d6aafa5bebf4",
   "metadata": {},
   "outputs": [
    {
     "data": {
      "text/html": [
       "<div>\n",
       "<style scoped>\n",
       "    .dataframe tbody tr th:only-of-type {\n",
       "        vertical-align: middle;\n",
       "    }\n",
       "\n",
       "    .dataframe tbody tr th {\n",
       "        vertical-align: top;\n",
       "    }\n",
       "\n",
       "    .dataframe thead th {\n",
       "        text-align: right;\n",
       "    }\n",
       "</style>\n",
       "<table border=\"1\" class=\"dataframe\">\n",
       "  <thead>\n",
       "    <tr style=\"text-align: right;\">\n",
       "      <th></th>\n",
       "      <th>adult</th>\n",
       "      <th>backdrop_path</th>\n",
       "      <th>belongs_to_collection</th>\n",
       "      <th>budget</th>\n",
       "      <th>genres</th>\n",
       "      <th>homepage</th>\n",
       "      <th>id</th>\n",
       "      <th>imdb_id</th>\n",
       "      <th>original_language</th>\n",
       "      <th>original_title</th>\n",
       "      <th>...</th>\n",
       "      <th>revenue</th>\n",
       "      <th>runtime</th>\n",
       "      <th>spoken_languages</th>\n",
       "      <th>status</th>\n",
       "      <th>tagline</th>\n",
       "      <th>title</th>\n",
       "      <th>video</th>\n",
       "      <th>vote_average</th>\n",
       "      <th>vote_count</th>\n",
       "      <th>certification</th>\n",
       "    </tr>\n",
       "  </thead>\n",
       "  <tbody>\n",
       "    <tr>\n",
       "      <th>0</th>\n",
       "      <td>False</td>\n",
       "      <td>/9BBTo63ANSmhC4e6r62OJFuK2GL.jpg</td>\n",
       "      <td>{'id': 86311, 'name': 'The Avengers Collection...</td>\n",
       "      <td>220000000</td>\n",
       "      <td>[{'id': 878, 'name': 'Science Fiction'}, {'id'...</td>\n",
       "      <td>https://www.marvel.com/movies/the-avengers</td>\n",
       "      <td>24428</td>\n",
       "      <td>tt0848228</td>\n",
       "      <td>en</td>\n",
       "      <td>The Avengers</td>\n",
       "      <td>...</td>\n",
       "      <td>1518815515</td>\n",
       "      <td>143</td>\n",
       "      <td>[{'english_name': 'English', 'iso_639_1': 'en'...</td>\n",
       "      <td>Released</td>\n",
       "      <td>Some assembly required.</td>\n",
       "      <td>The Avengers</td>\n",
       "      <td>False</td>\n",
       "      <td>7.707</td>\n",
       "      <td>28263</td>\n",
       "      <td>PG-13</td>\n",
       "    </tr>\n",
       "    <tr>\n",
       "      <th>1</th>\n",
       "      <td>False</td>\n",
       "      <td>/qom1SZSENdmHFNZBXbtJAU0WTlC.jpg</td>\n",
       "      <td>None</td>\n",
       "      <td>29000000</td>\n",
       "      <td>[{'id': 10749, 'name': 'Romance'}, {'id': 18, ...</td>\n",
       "      <td>http://www.newline.com/properties/notebookthe....</td>\n",
       "      <td>11036</td>\n",
       "      <td>tt0332280</td>\n",
       "      <td>en</td>\n",
       "      <td>The Notebook</td>\n",
       "      <td>...</td>\n",
       "      <td>115603229</td>\n",
       "      <td>123</td>\n",
       "      <td>[{'english_name': 'English', 'iso_639_1': 'en'...</td>\n",
       "      <td>Released</td>\n",
       "      <td>Behind every great love is a great story.</td>\n",
       "      <td>The Notebook</td>\n",
       "      <td>False</td>\n",
       "      <td>7.878</td>\n",
       "      <td>10186</td>\n",
       "      <td>PG-13</td>\n",
       "    </tr>\n",
       "  </tbody>\n",
       "</table>\n",
       "<p>2 rows × 26 columns</p>\n",
       "</div>"
      ],
      "text/plain": [
       "   adult                     backdrop_path  \\\n",
       "0  False  /9BBTo63ANSmhC4e6r62OJFuK2GL.jpg   \n",
       "1  False  /qom1SZSENdmHFNZBXbtJAU0WTlC.jpg   \n",
       "\n",
       "                               belongs_to_collection     budget  \\\n",
       "0  {'id': 86311, 'name': 'The Avengers Collection...  220000000   \n",
       "1                                               None   29000000   \n",
       "\n",
       "                                              genres  \\\n",
       "0  [{'id': 878, 'name': 'Science Fiction'}, {'id'...   \n",
       "1  [{'id': 10749, 'name': 'Romance'}, {'id': 18, ...   \n",
       "\n",
       "                                            homepage     id    imdb_id  \\\n",
       "0         https://www.marvel.com/movies/the-avengers  24428  tt0848228   \n",
       "1  http://www.newline.com/properties/notebookthe....  11036  tt0332280   \n",
       "\n",
       "  original_language original_title  ...     revenue  runtime  \\\n",
       "0                en   The Avengers  ...  1518815515      143   \n",
       "1                en   The Notebook  ...   115603229      123   \n",
       "\n",
       "                                    spoken_languages    status  \\\n",
       "0  [{'english_name': 'English', 'iso_639_1': 'en'...  Released   \n",
       "1  [{'english_name': 'English', 'iso_639_1': 'en'...  Released   \n",
       "\n",
       "                                     tagline         title  video  \\\n",
       "0                    Some assembly required.  The Avengers  False   \n",
       "1  Behind every great love is a great story.  The Notebook  False   \n",
       "\n",
       "   vote_average vote_count certification  \n",
       "0         7.707      28263         PG-13  \n",
       "1         7.878      10186         PG-13  \n",
       "\n",
       "[2 rows x 26 columns]"
      ]
     },
     "execution_count": 39,
     "metadata": {},
     "output_type": "execute_result"
    }
   ],
   "source": [
    "test_ids = [\"tt0848228\", \"tt0332280\"]\n",
    "results = []\n",
    "errors = []\n",
    "for movie_id in test_ids:\n",
    "    \n",
    "    try:\n",
    "        movie_info = get_movie_with_rating(movie_id)\n",
    "        results.append(movie_info)\n",
    "        \n",
    "    except Exception as e: \n",
    "        errors.append([movie_id, e])\n",
    "    \n",
    "pd.DataFrame(results)"
   ]
  },
  {
   "cell_type": "markdown",
   "id": "9345f129-3979-4c25-95ce-12ec3679269c",
   "metadata": {},
   "source": [
    "## 11. Exploratory Data Analysis"
   ]
  },
  {
   "cell_type": "markdown",
   "id": "34c47e1e-b4c5-4200-9050-1b1b28b4b9db",
   "metadata": {},
   "source": [
    "### 11.1 Contatening Data from YEARS 2000 and 2001"
   ]
  },
  {
   "cell_type": "code",
   "execution_count": 42,
   "id": "57edac44-4b40-4340-9ac8-ba5fefe76bef",
   "metadata": {},
   "outputs": [],
   "source": [
    "data_2000 = pd.read_csv(f\"{FOLDER}final_tmdb_data_2000.csv.gz\")"
   ]
  },
  {
   "cell_type": "code",
   "execution_count": 43,
   "id": "b5c0b333-5039-4993-987c-1dff2c935780",
   "metadata": {},
   "outputs": [],
   "source": [
    "data_2001 = pd.read_csv(f\"{FOLDER}final_tmdb_data_2001.csv.gz\")"
   ]
  },
  {
   "cell_type": "code",
   "execution_count": 45,
   "id": "886872df-22f9-4735-aa4b-d8d67d909bb8",
   "metadata": {},
   "outputs": [
    {
     "data": {
      "text/plain": [
       "pandas.core.frame.DataFrame"
      ]
     },
     "execution_count": 45,
     "metadata": {},
     "output_type": "execute_result"
    }
   ],
   "source": [
    "type(data_2000)"
   ]
  },
  {
   "cell_type": "code",
   "execution_count": 46,
   "id": "b8a275f6-9f8a-4edd-87f9-d07b33dcd3ee",
   "metadata": {},
   "outputs": [],
   "source": [
    "tmdb_results_combined = pd.concat([data_2000,data_2001])"
   ]
  },
  {
   "cell_type": "markdown",
   "id": "d072b247-2235-408b-b755-0d2129d11571",
   "metadata": {},
   "source": [
    "### 11.2 Save a final merged .csv.gz of all of the tmdb api data: ```tmdb_results_combined.csv.gz```"
   ]
  },
  {
   "cell_type": "code",
   "execution_count": 47,
   "id": "4dbf078f-30be-45c7-8b60-52b61fef23e7",
   "metadata": {},
   "outputs": [],
   "source": [
    "tmdb_results_combined.to_csv(f\"{FOLDER}tmdb_results_combined.csv.gz\", compression=\"gzip\", index=False)"
   ]
  },
  {
   "cell_type": "markdown",
   "id": "b2f0098e-187a-4981-8bbc-d1d66c6163ac",
   "metadata": {},
   "source": [
    "### 11.3 How many movies had at least some valid financial information (values > 0 for budget OR revenue)?"
   ]
  },
  {
   "cell_type": "code",
   "execution_count": null,
   "id": "5f922f34-bacd-4ef5-9995-027775a4fcac",
   "metadata": {},
   "outputs": [],
   "source": []
  },
  {
   "cell_type": "markdown",
   "id": "e6e03d1b-bcdf-41c7-aab9-7f73f9e94c9f",
   "metadata": {},
   "source": [
    "### 11.4 How many movies are there in each of the certification categories (G/PG/PG-13/R)?"
   ]
  },
  {
   "cell_type": "code",
   "execution_count": null,
   "id": "524995e0-9cc8-4c53-ab0f-f65ceae057ba",
   "metadata": {},
   "outputs": [],
   "source": []
  },
  {
   "cell_type": "markdown",
   "id": "557a5957-6a35-41e6-b3a0-dcbfb6b59104",
   "metadata": {},
   "source": [
    "### 11.5 What is the average revenue per certification category?"
   ]
  },
  {
   "cell_type": "code",
   "execution_count": null,
   "id": "f8eab3be-94f8-4562-9202-d4404bfb933d",
   "metadata": {},
   "outputs": [],
   "source": []
  },
  {
   "cell_type": "markdown",
   "id": "3ab6164e-725d-499e-b4a6-3ee5fb7a20bb",
   "metadata": {},
   "source": [
    "### 11.6 What is the average budget per certification category?"
   ]
  },
  {
   "cell_type": "code",
   "execution_count": null,
   "id": "e9f0aa0b-f2cb-465b-833f-853969036d2a",
   "metadata": {},
   "outputs": [],
   "source": []
  }
 ],
 "metadata": {
  "kernelspec": {
   "display_name": "Python 3 (ipykernel)",
   "language": "python",
   "name": "python3"
  },
  "language_info": {
   "codemirror_mode": {
    "name": "ipython",
    "version": 3
   },
   "file_extension": ".py",
   "mimetype": "text/x-python",
   "name": "python",
   "nbconvert_exporter": "python",
   "pygments_lexer": "ipython3",
   "version": "3.9.15"
  }
 },
 "nbformat": 4,
 "nbformat_minor": 5
}
