{
 "cells": [
  {
   "cell_type": "markdown",
   "id": "fba46d72-feb8-452f-8935-891d2dbe6c5a",
   "metadata": {},
   "source": [
    "# Project 3 Part 2 (Core)\n",
    "\n",
    "Rodrigo Arguello-Serrano"
   ]
  },
  {
   "cell_type": "code",
   "execution_count": 3,
   "id": "53f07214-2948-479a-aa2f-02fe9291b4bd",
   "metadata": {},
   "outputs": [
    {
     "data": {
      "text/plain": [
       "['.DS_Store',\n",
       " 'tmdb_api_results_2000.json',\n",
       " 'final_tmdb_data_2000.csv.gz',\n",
       " 'title_akas.csv',\n",
       " 'tmdb_api_results_2001.json',\n",
       " 'title_basics.csv.gz',\n",
       " 'final_tmdb_data_2001.csv.gz',\n",
       " 'title_akas.csv.gz',\n",
       " 'tmdb_results_combined.csv.gz',\n",
       " 'title_ratings.csv.gz']"
      ]
     },
     "execution_count": 3,
     "metadata": {},
     "output_type": "execute_result"
    }
   ],
   "source": [
    "#Import Modules\n",
    "import pandas as pd\n",
    "import numpy as np\n",
    "import os, time, json\n",
    "\n",
    "import tmdbsimple as tmdb \n",
    "from tqdm.notebook import tqdm_notebook\n",
    "\n",
    "FOLDER = \"Data/\"\n",
    "os.makedirs(FOLDER, exist_ok=True)\n",
    "os.listdir(FOLDER)"
   ]
  },
  {
   "cell_type": "code",
   "execution_count": 4,
   "id": "78581dea-4f7b-407a-949d-8c26fbceaf5b",
   "metadata": {},
   "outputs": [],
   "source": [
    "import json\n",
    "with open('/Users/rodrigoarguelloserrano/.secret/tmdb_api.json', 'r') as f:\n",
    "    login = json.load(f)\n",
    "## Display the keys of the loaded dict\n",
    "login.keys()\n",
    "\n",
    "#import the package and set the API_KEY\n",
    "tmdb.API_KEY =  login['api-key']\n",
    "\n",
    "YEARS_TO_GET = [2000,2001]\n",
    "errors = []"
   ]
  },
  {
   "cell_type": "code",
   "execution_count": 5,
   "id": "de723db9-6274-41ab-8160-9ccf6722b656",
   "metadata": {},
   "outputs": [
    {
     "data": {
      "text/html": [
       "<div>\n",
       "<style scoped>\n",
       "    .dataframe tbody tr th:only-of-type {\n",
       "        vertical-align: middle;\n",
       "    }\n",
       "\n",
       "    .dataframe tbody tr th {\n",
       "        vertical-align: top;\n",
       "    }\n",
       "\n",
       "    .dataframe thead th {\n",
       "        text-align: right;\n",
       "    }\n",
       "</style>\n",
       "<table border=\"1\" class=\"dataframe\">\n",
       "  <thead>\n",
       "    <tr style=\"text-align: right;\">\n",
       "      <th></th>\n",
       "      <th>tconst</th>\n",
       "      <th>titleType</th>\n",
       "      <th>primaryTitle</th>\n",
       "      <th>originalTitle</th>\n",
       "      <th>isAdult</th>\n",
       "      <th>startYear</th>\n",
       "      <th>endYear</th>\n",
       "      <th>runtimeMinutes</th>\n",
       "      <th>genres</th>\n",
       "    </tr>\n",
       "  </thead>\n",
       "  <tbody>\n",
       "    <tr>\n",
       "      <th>0</th>\n",
       "      <td>tt0035423</td>\n",
       "      <td>movie</td>\n",
       "      <td>Kate &amp; Leopold</td>\n",
       "      <td>Kate &amp; Leopold</td>\n",
       "      <td>0</td>\n",
       "      <td>2001.0</td>\n",
       "      <td>NaN</td>\n",
       "      <td>118</td>\n",
       "      <td>Comedy,Fantasy,Romance</td>\n",
       "    </tr>\n",
       "    <tr>\n",
       "      <th>1</th>\n",
       "      <td>tt0062336</td>\n",
       "      <td>movie</td>\n",
       "      <td>The Tango of the Widower and Its Distorting Mi...</td>\n",
       "      <td>El tango del viudo y su espejo deformante</td>\n",
       "      <td>0</td>\n",
       "      <td>2020.0</td>\n",
       "      <td>NaN</td>\n",
       "      <td>70</td>\n",
       "      <td>Drama</td>\n",
       "    </tr>\n",
       "    <tr>\n",
       "      <th>2</th>\n",
       "      <td>tt0069049</td>\n",
       "      <td>movie</td>\n",
       "      <td>The Other Side of the Wind</td>\n",
       "      <td>The Other Side of the Wind</td>\n",
       "      <td>0</td>\n",
       "      <td>2018.0</td>\n",
       "      <td>NaN</td>\n",
       "      <td>122</td>\n",
       "      <td>Drama</td>\n",
       "    </tr>\n",
       "    <tr>\n",
       "      <th>3</th>\n",
       "      <td>tt0088751</td>\n",
       "      <td>movie</td>\n",
       "      <td>The Naked Monster</td>\n",
       "      <td>The Naked Monster</td>\n",
       "      <td>0</td>\n",
       "      <td>2005.0</td>\n",
       "      <td>NaN</td>\n",
       "      <td>100</td>\n",
       "      <td>Comedy,Horror,Sci-Fi</td>\n",
       "    </tr>\n",
       "    <tr>\n",
       "      <th>4</th>\n",
       "      <td>tt0096056</td>\n",
       "      <td>movie</td>\n",
       "      <td>Crime and Punishment</td>\n",
       "      <td>Crime and Punishment</td>\n",
       "      <td>0</td>\n",
       "      <td>2002.0</td>\n",
       "      <td>NaN</td>\n",
       "      <td>126</td>\n",
       "      <td>Drama</td>\n",
       "    </tr>\n",
       "  </tbody>\n",
       "</table>\n",
       "</div>"
      ],
      "text/plain": [
       "      tconst titleType                                       primaryTitle  \\\n",
       "0  tt0035423     movie                                     Kate & Leopold   \n",
       "1  tt0062336     movie  The Tango of the Widower and Its Distorting Mi...   \n",
       "2  tt0069049     movie                         The Other Side of the Wind   \n",
       "3  tt0088751     movie                                  The Naked Monster   \n",
       "4  tt0096056     movie                               Crime and Punishment   \n",
       "\n",
       "                               originalTitle  isAdult  startYear  endYear  \\\n",
       "0                             Kate & Leopold        0     2001.0      NaN   \n",
       "1  El tango del viudo y su espejo deformante        0     2020.0      NaN   \n",
       "2                 The Other Side of the Wind        0     2018.0      NaN   \n",
       "3                          The Naked Monster        0     2005.0      NaN   \n",
       "4                       Crime and Punishment        0     2002.0      NaN   \n",
       "\n",
       "   runtimeMinutes                  genres  \n",
       "0             118  Comedy,Fantasy,Romance  \n",
       "1              70                   Drama  \n",
       "2             122                   Drama  \n",
       "3             100    Comedy,Horror,Sci-Fi  \n",
       "4             126                   Drama  "
      ]
     },
     "execution_count": 5,
     "metadata": {},
     "output_type": "execute_result"
    }
   ],
   "source": [
    "# Open saved file and preview again\n",
    "basics = pd.read_csv(f\"{FOLDER}title_basics.csv.gz\", low_memory = False)\n",
    "basics.head()"
   ]
  },
  {
   "cell_type": "markdown",
   "id": "895c33c8-3f86-4032-a830-e52b693fda57",
   "metadata": {},
   "source": [
    "## Helper Functions"
   ]
  },
  {
   "cell_type": "code",
   "execution_count": 6,
   "id": "9e02b7d3-67a4-47ce-9ef5-ddf481f34fe0",
   "metadata": {},
   "outputs": [],
   "source": [
    "def write_json(new_data, filename): \n",
    "    \"\"\"Appends a list of records (new_data) to a json file (filename). \n",
    "    Adapted from: https://www.geeksforgeeks.org/append-to-json-file-using-python/\"\"\"  \n",
    "    \n",
    "    with open(filename,'r+') as file:\n",
    "        # First we load existing data into a dict.\n",
    "        file_data = json.load(file)\n",
    "        ## Choose extend or append\n",
    "        if (type(new_data) == list) & (type(file_data) == list):\n",
    "            file_data.extend(new_data)\n",
    "        else:\n",
    "             file_data.append(new_data)\n",
    "        # Sets file's current position at offset.\n",
    "        file.seek(0)\n",
    "        # convert back to json.\n",
    "        json.dump(file_data, file)"
   ]
  },
  {
   "cell_type": "code",
   "execution_count": 7,
   "id": "3e21d6bf-fb42-4a84-bad3-6283908a6e29",
   "metadata": {},
   "outputs": [],
   "source": [
    "def get_movie_with_rating(movie_id):\n",
    "# Get the movie object for the current id\n",
    "    movie = tmdb.Movies(movie_id)\n",
    "    # save the .info .releases dictionaries\n",
    "    info = movie.info()\n",
    "    releases = movie.releases()\n",
    "    # Loop through countries in releases\n",
    "    for c in releases['countries']:\n",
    "        # if the country abbreviation==US\n",
    "        if c['iso_3166_1' ] =='US':\n",
    "            ## save a \"certification\" key in the info dict with the certification\n",
    "            info['certification'] = c['certification']\n",
    "    return info"
   ]
  },
  {
   "cell_type": "markdown",
   "id": "470c7f36-5014-4c86-b84d-cc419cb0d16a",
   "metadata": {},
   "source": [
    "## 10. Loop Funtion to retrive YEARS with ratings"
   ]
  },
  {
   "cell_type": "code",
   "execution_count": 8,
   "id": "18eeeade-f679-4c2e-9c87-c0f14e3835bd",
   "metadata": {},
   "outputs": [
    {
     "data": {
      "application/vnd.jupyter.widget-view+json": {
       "model_id": "2eaca58f38ab4beca155c9de1a97b182",
       "version_major": 2,
       "version_minor": 0
      },
      "text/plain": [
       "YEARS:   0%|          | 0/2 [00:00<?, ?it/s]"
      ]
     },
     "metadata": {},
     "output_type": "display_data"
    },
    {
     "data": {
      "application/vnd.jupyter.widget-view+json": {
       "model_id": "97f178b2f4bd4771be40323b146b1152",
       "version_major": 2,
       "version_minor": 0
      },
      "text/plain": [
       "Movies from 2000:   0%|          | 0/211 [00:00<?, ?it/s]"
      ]
     },
     "metadata": {},
     "output_type": "display_data"
    },
    {
     "data": {
      "application/vnd.jupyter.widget-view+json": {
       "model_id": "9370716460cf4801be7ca19f36566771",
       "version_major": 2,
       "version_minor": 0
      },
      "text/plain": [
       "Movies from 2001:   0%|          | 0/244 [00:00<?, ?it/s]"
      ]
     },
     "metadata": {},
     "output_type": "display_data"
    },
    {
     "name": "stdout",
     "output_type": "stream",
     "text": [
      "- Total errors: 454\n"
     ]
    }
   ],
   "source": [
    "# Start of OUTER loop\n",
    "for YEAR in tqdm_notebook(YEARS_TO_GET, desc='YEARS', position=0):\n",
    "    #Defining the JSON file to store results for year\n",
    "    JSON_FILE = f'{FOLDER}tmdb_api_results_{YEAR}.json'\n",
    "    # Check if file exists\n",
    "    file_exists = os.path.isfile(JSON_FILE)\n",
    "    # If it does not exist: create it\n",
    "    if file_exists == False:\n",
    "    # save an empty dict with just \"imdb_id\" to the new json file.\n",
    "        with open(JSON_FILE,'w') as f:\n",
    "            json.dump([{'imdb_id':0}],f)\n",
    "\n",
    "    #Saving new year as the current df\n",
    "    df = basics.loc[ basics['startYear']==YEAR].copy()\n",
    "    # saving movie ids to list\n",
    "    movie_ids = df['tconst'].copy()\n",
    "    # Load existing data from json into a dataframe called \"previous_df\"\n",
    "    previous_df = pd.read_json(JSON_FILE)\n",
    "    # filter out any ids that are already in the JSON_FILE\n",
    "    movie_ids_to_get = movie_ids[~movie_ids.isin(previous_df['imdb_id'])]\n",
    "\n",
    "    #Get index and movie id from list\n",
    "    # INNER Loop\n",
    "    for movie_id in tqdm_notebook(movie_ids_to_get,\n",
    "                                  desc=f'Movies from {YEAR}',\n",
    "                                  position=1,\n",
    "                                  leave=True):\n",
    "        try:\n",
    "            # Retrieve then data for the movie id\n",
    "            temp = get_movie_with_rating(movie_id)  \n",
    "            # Append/extend results to existing file using a pre-made function\n",
    "            write_json(temp,JSON_FILE)\n",
    "            # Short 20 ms sleep to prevent overwhelming server\n",
    "            time.sleep(0.02)\n",
    "            \n",
    "        except Exception as e:\n",
    "            errors.append([movie_id, e])\n",
    "\n",
    "    final_year_df = pd.read_json(JSON_FILE)\n",
    "    final_year_df.to_csv(f\"{FOLDER}final_tmdb_data_{YEAR}.csv.gz\", compression=\"gzip\", index=False)\n",
    "\n",
    "print(f\"- Total errors: {len(errors)}\")"
   ]
  },
  {
   "cell_type": "markdown",
   "id": "4e8059c8-92c9-433a-b737-07daf4c27af6",
   "metadata": {},
   "source": [
    "> Testing our function by looping through a list of ids: tt0848228 (\"The Avengers\") and tt0332280 (\"The Notebook\")"
   ]
  },
  {
   "cell_type": "code",
   "execution_count": 9,
   "id": "16a5cb91-d277-46d5-acf8-09622f77cb57",
   "metadata": {},
   "outputs": [
    {
     "data": {
      "text/html": [
       "<div>\n",
       "<style scoped>\n",
       "    .dataframe tbody tr th:only-of-type {\n",
       "        vertical-align: middle;\n",
       "    }\n",
       "\n",
       "    .dataframe tbody tr th {\n",
       "        vertical-align: top;\n",
       "    }\n",
       "\n",
       "    .dataframe thead th {\n",
       "        text-align: right;\n",
       "    }\n",
       "</style>\n",
       "<table border=\"1\" class=\"dataframe\">\n",
       "  <thead>\n",
       "    <tr style=\"text-align: right;\">\n",
       "      <th></th>\n",
       "      <th>adult</th>\n",
       "      <th>backdrop_path</th>\n",
       "      <th>belongs_to_collection</th>\n",
       "      <th>budget</th>\n",
       "      <th>genres</th>\n",
       "      <th>homepage</th>\n",
       "      <th>id</th>\n",
       "      <th>imdb_id</th>\n",
       "      <th>original_language</th>\n",
       "      <th>original_title</th>\n",
       "      <th>...</th>\n",
       "      <th>revenue</th>\n",
       "      <th>runtime</th>\n",
       "      <th>spoken_languages</th>\n",
       "      <th>status</th>\n",
       "      <th>tagline</th>\n",
       "      <th>title</th>\n",
       "      <th>video</th>\n",
       "      <th>vote_average</th>\n",
       "      <th>vote_count</th>\n",
       "      <th>certification</th>\n",
       "    </tr>\n",
       "  </thead>\n",
       "  <tbody>\n",
       "    <tr>\n",
       "      <th>0</th>\n",
       "      <td>False</td>\n",
       "      <td>/9BBTo63ANSmhC4e6r62OJFuK2GL.jpg</td>\n",
       "      <td>{'id': 86311, 'name': 'The Avengers Collection...</td>\n",
       "      <td>220000000</td>\n",
       "      <td>[{'id': 878, 'name': 'Science Fiction'}, {'id'...</td>\n",
       "      <td>https://www.marvel.com/movies/the-avengers</td>\n",
       "      <td>24428</td>\n",
       "      <td>tt0848228</td>\n",
       "      <td>en</td>\n",
       "      <td>The Avengers</td>\n",
       "      <td>...</td>\n",
       "      <td>1518815515</td>\n",
       "      <td>143</td>\n",
       "      <td>[{'english_name': 'English', 'iso_639_1': 'en'...</td>\n",
       "      <td>Released</td>\n",
       "      <td>Some assembly required.</td>\n",
       "      <td>The Avengers</td>\n",
       "      <td>False</td>\n",
       "      <td>7.707</td>\n",
       "      <td>28310</td>\n",
       "      <td>PG-13</td>\n",
       "    </tr>\n",
       "    <tr>\n",
       "      <th>1</th>\n",
       "      <td>False</td>\n",
       "      <td>/qom1SZSENdmHFNZBXbtJAU0WTlC.jpg</td>\n",
       "      <td>None</td>\n",
       "      <td>29000000</td>\n",
       "      <td>[{'id': 10749, 'name': 'Romance'}, {'id': 18, ...</td>\n",
       "      <td>http://www.newline.com/properties/notebookthe....</td>\n",
       "      <td>11036</td>\n",
       "      <td>tt0332280</td>\n",
       "      <td>en</td>\n",
       "      <td>The Notebook</td>\n",
       "      <td>...</td>\n",
       "      <td>115603229</td>\n",
       "      <td>123</td>\n",
       "      <td>[{'english_name': 'English', 'iso_639_1': 'en'...</td>\n",
       "      <td>Released</td>\n",
       "      <td>Behind every great love is a great story.</td>\n",
       "      <td>The Notebook</td>\n",
       "      <td>False</td>\n",
       "      <td>7.878</td>\n",
       "      <td>10197</td>\n",
       "      <td>PG-13</td>\n",
       "    </tr>\n",
       "  </tbody>\n",
       "</table>\n",
       "<p>2 rows × 26 columns</p>\n",
       "</div>"
      ],
      "text/plain": [
       "   adult                     backdrop_path  \\\n",
       "0  False  /9BBTo63ANSmhC4e6r62OJFuK2GL.jpg   \n",
       "1  False  /qom1SZSENdmHFNZBXbtJAU0WTlC.jpg   \n",
       "\n",
       "                               belongs_to_collection     budget  \\\n",
       "0  {'id': 86311, 'name': 'The Avengers Collection...  220000000   \n",
       "1                                               None   29000000   \n",
       "\n",
       "                                              genres  \\\n",
       "0  [{'id': 878, 'name': 'Science Fiction'}, {'id'...   \n",
       "1  [{'id': 10749, 'name': 'Romance'}, {'id': 18, ...   \n",
       "\n",
       "                                            homepage     id    imdb_id  \\\n",
       "0         https://www.marvel.com/movies/the-avengers  24428  tt0848228   \n",
       "1  http://www.newline.com/properties/notebookthe....  11036  tt0332280   \n",
       "\n",
       "  original_language original_title  ...     revenue  runtime  \\\n",
       "0                en   The Avengers  ...  1518815515      143   \n",
       "1                en   The Notebook  ...   115603229      123   \n",
       "\n",
       "                                    spoken_languages    status  \\\n",
       "0  [{'english_name': 'English', 'iso_639_1': 'en'...  Released   \n",
       "1  [{'english_name': 'English', 'iso_639_1': 'en'...  Released   \n",
       "\n",
       "                                     tagline         title  video  \\\n",
       "0                    Some assembly required.  The Avengers  False   \n",
       "1  Behind every great love is a great story.  The Notebook  False   \n",
       "\n",
       "   vote_average vote_count certification  \n",
       "0         7.707      28310         PG-13  \n",
       "1         7.878      10197         PG-13  \n",
       "\n",
       "[2 rows x 26 columns]"
      ]
     },
     "execution_count": 9,
     "metadata": {},
     "output_type": "execute_result"
    }
   ],
   "source": [
    "test_ids = [\"tt0848228\", \"tt0332280\"]\n",
    "results = []\n",
    "errors = []\n",
    "for movie_id in test_ids:\n",
    "    \n",
    "    try:\n",
    "        movie_info = get_movie_with_rating(movie_id)\n",
    "        results.append(movie_info)\n",
    "        \n",
    "    except Exception as e: \n",
    "        errors.append([movie_id, e])\n",
    "    \n",
    "pd.DataFrame(results)"
   ]
  },
  {
   "cell_type": "markdown",
   "id": "107eba01-335b-4014-b028-441613eae076",
   "metadata": {},
   "source": [
    "## 11. Exploratory Data Analysis"
   ]
  },
  {
   "cell_type": "markdown",
   "id": "09a335fb-a1a6-4499-8fb6-34c3091af212",
   "metadata": {},
   "source": [
    "### 11.1 Contatening Data from YEARS 2000 and 2001"
   ]
  },
  {
   "cell_type": "code",
   "execution_count": 10,
   "id": "231f1843-9bcb-4507-bc9a-5489afddab0b",
   "metadata": {},
   "outputs": [],
   "source": [
    "data_2000 = pd.read_csv(f\"{FOLDER}final_tmdb_data_2000.csv.gz\")"
   ]
  },
  {
   "cell_type": "code",
   "execution_count": 11,
   "id": "5d5c590d-05b4-4125-9d62-761d9be035b0",
   "metadata": {},
   "outputs": [],
   "source": [
    "data_2001 = pd.read_csv(f\"{FOLDER}final_tmdb_data_2001.csv.gz\")"
   ]
  },
  {
   "cell_type": "code",
   "execution_count": 12,
   "id": "bb5e3b69-e86d-4d7b-8cc4-f5c83637243c",
   "metadata": {},
   "outputs": [
    {
     "data": {
      "text/plain": [
       "pandas.core.frame.DataFrame"
      ]
     },
     "execution_count": 12,
     "metadata": {},
     "output_type": "execute_result"
    }
   ],
   "source": [
    "type(data_2000)"
   ]
  },
  {
   "cell_type": "code",
   "execution_count": 13,
   "id": "562907e3-0a9d-4bde-ab98-c1a0ee2f1154",
   "metadata": {},
   "outputs": [],
   "source": [
    "tmdb_results_combined = pd.concat([data_2000,data_2001])"
   ]
  },
  {
   "cell_type": "markdown",
   "id": "e23fe6a7-4cd2-44c5-ab3e-960defd811e6",
   "metadata": {},
   "source": [
    "### 11.2 Save a final merged .csv.gz of all of the tmdb api data: ```tmdb_results_combined.csv.gz```"
   ]
  },
  {
   "cell_type": "code",
   "execution_count": 14,
   "id": "7211c24c-6724-4730-8de7-87e5bd5a2b37",
   "metadata": {},
   "outputs": [
    {
     "name": "stdout",
     "output_type": "stream",
     "text": [
      "<class 'pandas.core.frame.DataFrame'>\n",
      "Int64Index: 2536 entries, 0 to 1308\n",
      "Data columns (total 26 columns):\n",
      " #   Column                 Non-Null Count  Dtype  \n",
      "---  ------                 --------------  -----  \n",
      " 0   imdb_id                2536 non-null   object \n",
      " 1   adult                  2534 non-null   float64\n",
      " 2   backdrop_path          1354 non-null   object \n",
      " 3   belongs_to_collection  202 non-null    object \n",
      " 4   budget                 2534 non-null   float64\n",
      " 5   genres                 2534 non-null   object \n",
      " 6   homepage               169 non-null    object \n",
      " 7   id                     2534 non-null   float64\n",
      " 8   original_language      2534 non-null   object \n",
      " 9   original_title         2534 non-null   object \n",
      " 10  overview               2482 non-null   object \n",
      " 11  popularity             2534 non-null   float64\n",
      " 12  poster_path            2275 non-null   object \n",
      " 13  production_companies   2534 non-null   object \n",
      " 14  production_countries   2534 non-null   object \n",
      " 15  release_date           2518 non-null   object \n",
      " 16  revenue                2534 non-null   float64\n",
      " 17  runtime                2534 non-null   float64\n",
      " 18  spoken_languages       2534 non-null   object \n",
      " 19  status                 2534 non-null   object \n",
      " 20  tagline                1084 non-null   object \n",
      " 21  title                  2534 non-null   object \n",
      " 22  video                  2534 non-null   float64\n",
      " 23  vote_average           2534 non-null   float64\n",
      " 24  vote_count             2534 non-null   float64\n",
      " 25  certification          806 non-null    object \n",
      "dtypes: float64(9), object(17)\n",
      "memory usage: 534.9+ KB\n"
     ]
    }
   ],
   "source": [
    "# Checking dataframes\n",
    "tmdb_results_combined.info()"
   ]
  },
  {
   "cell_type": "code",
   "execution_count": 39,
   "id": "1379fc38-5ebc-4e20-8168-01f1c91c966d",
   "metadata": {},
   "outputs": [],
   "source": [
    "# Filters\n",
    "budget_filter = tmdb_results_combined['budget'] > 0\n",
    "revenue_filter = tmdb_results_combined['revenue'] > 0"
   ]
  },
  {
   "cell_type": "code",
   "execution_count": 40,
   "id": "c62dbe76-1579-40c4-abf3-114354cfa22e",
   "metadata": {},
   "outputs": [
    {
     "name": "stdout",
     "output_type": "stream",
     "text": [
      "There are 354 with relevant financial data.\n"
     ]
    }
   ],
   "source": [
    "financial_movies_count = tmdb_results_combined[budget_filter & revenue_filter].shape[0]\n",
    "print(f\"There are {financial_movies_count} with relevant financial data.\")"
   ]
  },
  {
   "cell_type": "markdown",
   "id": "aab2677a-1730-438c-b0d3-0466f54871d7",
   "metadata": {},
   "source": [
    "### 11.4 How many movies are there in each of the certification categories (G/PG/PG-13/R)?"
   ]
  },
  {
   "cell_type": "code",
   "execution_count": 41,
   "id": "169ec424-ec2a-449b-8c99-bbb997fdef5a",
   "metadata": {},
   "outputs": [
    {
     "data": {
      "text/plain": [
       "R        142\n",
       "PG-13    117\n",
       "PG        30\n",
       "G         13\n",
       "NR         7\n",
       "Name: certification, dtype: int64"
      ]
     },
     "execution_count": 41,
     "metadata": {},
     "output_type": "execute_result"
    }
   ],
   "source": [
    "financial_movies = tmdb_results_combined[budget_filter & revenue_filter]\n",
    "financial_movies['certification'].value_counts()"
   ]
  },
  {
   "cell_type": "markdown",
   "id": "e9c59f3a-420e-47a3-8e13-721a0cb86378",
   "metadata": {},
   "source": [
    "### 11.5 What is the average revenue per certification category?"
   ]
  },
  {
   "cell_type": "code",
   "execution_count": 42,
   "id": "cf22f1f9-a43e-437d-9644-9b80eea563dd",
   "metadata": {},
   "outputs": [
    {
     "data": {
      "text/html": [
       "<style type=\"text/css\">\n",
       "</style>\n",
       "<table id=\"T_89f02\">\n",
       "  <thead>\n",
       "    <tr>\n",
       "      <th class=\"blank level0\" >&nbsp;</th>\n",
       "      <th id=\"T_89f02_level0_col0\" class=\"col_heading level0 col0\" >mean</th>\n",
       "    </tr>\n",
       "    <tr>\n",
       "      <th class=\"index_name level0\" >certification</th>\n",
       "      <th class=\"blank col0\" >&nbsp;</th>\n",
       "    </tr>\n",
       "  </thead>\n",
       "  <tbody>\n",
       "    <tr>\n",
       "      <th id=\"T_89f02_level0_row0\" class=\"row_heading level0 row0\" >G</th>\n",
       "      <td id=\"T_89f02_row0_col0\" class=\"data row0 col0\" >$133,216,881.69</td>\n",
       "    </tr>\n",
       "    <tr>\n",
       "      <th id=\"T_89f02_level0_row1\" class=\"row_heading level0 row1\" >NR</th>\n",
       "      <td id=\"T_89f02_row1_col0\" class=\"data row1 col0\" >$22,122,566.43</td>\n",
       "    </tr>\n",
       "    <tr>\n",
       "      <th id=\"T_89f02_level0_row2\" class=\"row_heading level0 row2\" >PG</th>\n",
       "      <td id=\"T_89f02_row2_col0\" class=\"data row2 col0\" >$129,080,604.10</td>\n",
       "    </tr>\n",
       "    <tr>\n",
       "      <th id=\"T_89f02_level0_row3\" class=\"row_heading level0 row3\" >PG-13</th>\n",
       "      <td id=\"T_89f02_row3_col0\" class=\"data row3 col0\" >$111,073,959.08</td>\n",
       "    </tr>\n",
       "    <tr>\n",
       "      <th id=\"T_89f02_level0_row4\" class=\"row_heading level0 row4\" >R</th>\n",
       "      <td id=\"T_89f02_row4_col0\" class=\"data row4 col0\" >$52,945,474.85</td>\n",
       "    </tr>\n",
       "  </tbody>\n",
       "</table>\n"
      ],
      "text/plain": [
       "<pandas.io.formats.style.Styler at 0x1286c85e0>"
      ]
     },
     "execution_count": 42,
     "metadata": {},
     "output_type": "execute_result"
    }
   ],
   "source": [
    "financial_movies.groupby('certification')['revenue'].agg(['mean']).style.format('${0:,.2f}')"
   ]
  },
  {
   "cell_type": "markdown",
   "id": "63afe712-717b-48c2-a547-534b364ed50c",
   "metadata": {},
   "source": [
    "### 11.6 What is the average budget per certification category?"
   ]
  },
  {
   "cell_type": "code",
   "execution_count": 43,
   "id": "2dfb7430-d6ff-4683-8b0b-f6d1a3259088",
   "metadata": {},
   "outputs": [
    {
     "data": {
      "text/html": [
       "<style type=\"text/css\">\n",
       "</style>\n",
       "<table id=\"T_fa489\">\n",
       "  <thead>\n",
       "    <tr>\n",
       "      <th class=\"blank level0\" >&nbsp;</th>\n",
       "      <th id=\"T_fa489_level0_col0\" class=\"col_heading level0 col0\" >mean</th>\n",
       "    </tr>\n",
       "    <tr>\n",
       "      <th class=\"index_name level0\" >certification</th>\n",
       "      <th class=\"blank col0\" >&nbsp;</th>\n",
       "    </tr>\n",
       "  </thead>\n",
       "  <tbody>\n",
       "    <tr>\n",
       "      <th id=\"T_fa489_level0_row0\" class=\"row_heading level0 row0\" >G</th>\n",
       "      <td id=\"T_fa489_row0_col0\" class=\"data row0 col0\" >$44,000,000.00</td>\n",
       "    </tr>\n",
       "    <tr>\n",
       "      <th id=\"T_fa489_level0_row1\" class=\"row_heading level0 row1\" >NR</th>\n",
       "      <td id=\"T_fa489_row1_col0\" class=\"data row1 col0\" >$13,528,571.43</td>\n",
       "    </tr>\n",
       "    <tr>\n",
       "      <th id=\"T_fa489_level0_row2\" class=\"row_heading level0 row2\" >PG</th>\n",
       "      <td id=\"T_fa489_row2_col0\" class=\"data row2 col0\" >$51,974,907.80</td>\n",
       "    </tr>\n",
       "    <tr>\n",
       "      <th id=\"T_fa489_level0_row3\" class=\"row_heading level0 row3\" >PG-13</th>\n",
       "      <td id=\"T_fa489_row3_col0\" class=\"data row3 col0\" >$46,644,422.11</td>\n",
       "    </tr>\n",
       "    <tr>\n",
       "      <th id=\"T_fa489_level0_row4\" class=\"row_heading level0 row4\" >R</th>\n",
       "      <td id=\"T_fa489_row4_col0\" class=\"data row4 col0\" >$27,063,479.23</td>\n",
       "    </tr>\n",
       "  </tbody>\n",
       "</table>\n"
      ],
      "text/plain": [
       "<pandas.io.formats.style.Styler at 0x1286c8a00>"
      ]
     },
     "execution_count": 43,
     "metadata": {},
     "output_type": "execute_result"
    }
   ],
   "source": [
    "financial_movies.groupby('certification')['budget'].agg(['mean']).style.format('${0:,.2f}')"
   ]
  },
  {
   "cell_type": "code",
   "execution_count": null,
   "id": "25878c67-05a6-497f-9443-e1ce4d0bf96b",
   "metadata": {},
   "outputs": [],
   "source": []
  }
 ],
 "metadata": {
  "kernelspec": {
   "display_name": "Python 3 (ipykernel)",
   "language": "python",
   "name": "python3"
  },
  "language_info": {
   "codemirror_mode": {
    "name": "ipython",
    "version": 3
   },
   "file_extension": ".py",
   "mimetype": "text/x-python",
   "name": "python",
   "nbconvert_exporter": "python",
   "pygments_lexer": "ipython3",
   "version": "3.9.15"
  }
 },
 "nbformat": 4,
 "nbformat_minor": 5
}
